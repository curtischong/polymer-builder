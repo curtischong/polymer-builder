{
 "cells": [
  {
   "cell_type": "code",
   "execution_count": 1,
   "id": "920c1547-d3ac-420e-93ae-ff045cbfd417",
   "metadata": {},
   "outputs": [],
   "source": [
    "import math\n",
    "import numpy as np"
   ]
  },
  {
   "cell_type": "code",
   "execution_count": 6,
   "id": "129b0e85-5865-4370-aafd-4d4cf74eeb4e",
   "metadata": {},
   "outputs": [],
   "source": [
    "import py3Dmol\n",
    "import importlib\n",
    "import get_molecules\n",
    "importlib.reload(get_molecules)\n",
    "%matplotlib inline\n",
    "import visualize_crystal"
   ]
  },
  {
   "cell_type": "code",
   "execution_count": 28,
   "id": "eb33756f-de94-4c60-a087-ab2b35eb1c13",
   "metadata": {},
   "outputs": [
    {
     "data": {
      "application/vnd.plotly.v1+json": {
       "config": {
        "plotlyServerURL": "https://plot.ly"
       },
       "data": [
        {
         "marker": {
          "color": "#8F00FF",
          "size": 5
         },
         "mode": "markers",
         "name": "0",
         "text": "N",
         "type": "scatter3d",
         "x": [
          0
         ],
         "y": [
          0
         ],
         "z": [
          0
         ]
        },
        {
         "marker": {
          "color": "#000000",
          "size": 5
         },
         "mode": "markers",
         "name": "1",
         "text": "C",
         "type": "scatter3d",
         "x": [
          -1.1342973009941393
         ],
         "y": [
          -0.8547213569258455
         ],
         "z": [
          -0.10028133456027813
         ]
        },
        {
         "marker": {
          "color": "#000000",
          "size": 5
         },
         "mode": "markers",
         "name": "2",
         "text": "C",
         "type": "scatter3d",
         "x": [
          -1.3678172366959873
         ],
         "y": [
          -1.6444262228135327
         ],
         "z": [
          1.1507952130351662
         ]
        },
        {
         "marker": {
          "color": "#FF0000",
          "size": 5
         },
         "mode": "markers",
         "name": "3",
         "text": "O",
         "type": "scatter3d",
         "x": [
          -2.3368993826386224
         ],
         "y": [
          -2.4437310867474413
         ],
         "z": [
          1.2079821706456353
         ]
        },
        {
         "marker": {
          "color": "#8F00FF",
          "size": 5
         },
         "mode": "markers",
         "name": "4",
         "text": "N",
         "type": "scatter3d",
         "x": [
          -0.5373044519934334
         ],
         "y": [
          -1.5302766480709549
         ],
         "z": [
          2.2848276704980264
         ]
        },
        {
         "marker": {
          "color": "#000000",
          "size": 5
         },
         "mode": "markers",
         "name": "5",
         "text": "C",
         "type": "scatter3d",
         "x": [
          -0.7305882343328002
         ],
         "y": [
          -2.2724891257471618
         ],
         "z": [
          3.5038375126712875
         ]
        },
        {
         "marker": {
          "color": "#000000",
          "size": 5
         },
         "mode": "markers",
         "name": "6",
         "text": "C",
         "type": "scatter3d",
         "x": [
          0.31375008634594365
         ],
         "y": [
          -1.9423820021044886
         ],
         "z": [
          4.545377343130987
         ]
        },
        {
         "marker": {
          "color": "#000000",
          "size": 5
         },
         "mode": "markers",
         "name": "7",
         "text": "C",
         "type": "scatter3d",
         "x": [
          0.30418261739553104
         ],
         "y": [
          -0.477262347724533
         ],
         "z": [
          4.9283861225012116
         ]
        },
        {
         "marker": {
          "color": "#000000",
          "size": 5
         },
         "mode": "markers",
         "name": "8",
         "text": "C",
         "type": "scatter3d",
         "x": [
          -1.0098995015567176
         ],
         "y": [
          -0.04944947300970968
         ],
         "z": [
          5.4962478099758565
         ]
        },
        {
         "marker": {
          "color": "#000000",
          "size": 5
         },
         "mode": "markers",
         "name": "9",
         "text": "C",
         "type": "scatter3d",
         "x": [
          -1.421618737039793
         ],
         "y": [
          -0.7834293501712647
         ],
         "z": [
          6.7274943882367975
         ]
        },
        {
         "marker": {
          "color": "#000000",
          "size": 5
         },
         "mode": "markers",
         "name": "10",
         "text": "C",
         "type": "scatter3d",
         "x": [
          -0.5056004196604148
         ],
         "y": [
          -0.6542389641248367
         ],
         "z": [
          7.874291841227406
         ]
        },
        {
         "marker": {
          "color": "#FF0000",
          "size": 5
         },
         "mode": "markers",
         "name": "11",
         "text": "O",
         "type": "scatter3d",
         "x": [
          0.4835979973145802
         ],
         "y": [
          0.023214788527699887
         ],
         "z": [
          7.780988601236788
         ]
        },
        {
         "marker": {
          "color": "#F0F8FF",
          "size": 5
         },
         "mode": "markers",
         "name": "12",
         "text": "H",
         "type": "scatter3d",
         "x": [
          -0.05731977218136553
         ],
         "y": [
          0.7532836527085682
         ],
         "z": [
          0.6891103556954071
         ]
        },
        {
         "marker": {
          "color": "#F0F8FF",
          "size": 5
         },
         "mode": "markers",
         "name": "13",
         "text": "H",
         "type": "scatter3d",
         "x": [
          0.5017723616694094
         ],
         "y": [
          0.19739267696826854
         ],
         "z": [
          -0.867928096811863
         ]
        },
        {
         "marker": {
          "color": "#F0F8FF",
          "size": 5
         },
         "mode": "markers",
         "name": "14",
         "text": "H",
         "type": "scatter3d",
         "x": [
          -0.9415070734480748
         ],
         "y": [
          -1.5892755007000043
         ],
         "z": [
          -0.9120800594026954
         ]
        },
        {
         "marker": {
          "color": "#F0F8FF",
          "size": 5
         },
         "mode": "markers",
         "name": "15",
         "text": "H",
         "type": "scatter3d",
         "x": [
          -2.0201162777584165
         ],
         "y": [
          -0.26333915335606634
         ],
         "z": [
          -0.3812040293075341
         ]
        },
        {
         "marker": {
          "color": "#F0F8FF",
          "size": 5
         },
         "mode": "markers",
         "name": "16",
         "text": "H",
         "type": "scatter3d",
         "x": [
          0.2637930953167743
         ],
         "y": [
          -0.86111409954769
         ],
         "z": [
          2.219442897061144
         ]
        },
        {
         "marker": {
          "color": "#F0F8FF",
          "size": 5
         },
         "mode": "markers",
         "name": "17",
         "text": "H",
         "type": "scatter3d",
         "x": [
          -1.7339470559391814
         ],
         "y": [
          -2.043058420949018
         ],
         "z": [
          3.9144032427367996
         ]
        },
        {
         "marker": {
          "color": "#F0F8FF",
          "size": 5
         },
         "mode": "markers",
         "name": "18",
         "text": "H",
         "type": "scatter3d",
         "x": [
          -0.7214965664736079
         ],
         "y": [
          -3.3722146162525046
         ],
         "z": [
          3.336820235213755
         ]
        },
        {
         "marker": {
          "color": "#F0F8FF",
          "size": 5
         },
         "mode": "markers",
         "name": "19",
         "text": "H",
         "type": "scatter3d",
         "x": [
          1.3285951055538208
         ],
         "y": [
          -2.1901642424081116
         ],
         "z": [
          4.21037476385402
         ]
        },
        {
         "marker": {
          "color": "#F0F8FF",
          "size": 5
         },
         "mode": "markers",
         "name": "20",
         "text": "H",
         "type": "scatter3d",
         "x": [
          0.10608765163763026
         ],
         "y": [
          -2.5087885597918556
         ],
         "z": [
          5.475714468002963
         ]
        },
        {
         "marker": {
          "color": "#F0F8FF",
          "size": 5
         },
         "mode": "markers",
         "name": "21",
         "text": "H",
         "type": "scatter3d",
         "x": [
          0.492493837051605
         ],
         "y": [
          0.11684268851852063
         ],
         "z": [
          3.991810738060763
         ]
        },
        {
         "marker": {
          "color": "#F0F8FF",
          "size": 5
         },
         "mode": "markers",
         "name": "22",
         "text": "H",
         "type": "scatter3d",
         "x": [
          1.1712077170296962
         ],
         "y": [
          -0.33657546407586475
         ],
         "z": [
          5.605779738163649
         ]
        },
        {
         "marker": {
          "color": "#F0F8FF",
          "size": 5
         },
         "mode": "markers",
         "name": "23",
         "text": "H",
         "type": "scatter3d",
         "x": [
          -1.776294852451048
         ],
         "y": [
          -0.17730373346684888
         ],
         "z": [
          4.7257963520647515
         ]
        },
        {
         "marker": {
          "color": "#F0F8FF",
          "size": 5
         },
         "mode": "markers",
         "name": "24",
         "text": "H",
         "type": "scatter3d",
         "x": [
          -1.0010463569958918
         ],
         "y": [
          1.0398260439070433
         ],
         "z": [
          5.758724914869406
         ]
        },
        {
         "marker": {
          "color": "#F0F8FF",
          "size": 5
         },
         "mode": "markers",
         "name": "25",
         "text": "H",
         "type": "scatter3d",
         "x": [
          -2.421737465776126
         ],
         "y": [
          -0.41057097616086785
         ],
         "z": [
          7.101558066905573
         ]
        },
        {
         "marker": {
          "color": "#F0F8FF",
          "size": 5
         },
         "mode": "markers",
         "name": "26",
         "text": "H",
         "type": "scatter3d",
         "x": [
          -1.625987892600841
         ],
         "y": [
          -1.876942439678537
         ],
         "z": [
          6.521532425122886
         ]
        },
        {
         "marker": {
          "color": "#F0F8FF",
          "size": 5
         },
         "mode": "markers",
         "name": "27",
         "text": "H",
         "type": "scatter3d",
         "x": [
          -0.7202009803393746
         ],
         "y": [
          -1.1634064275037614
         ],
         "z": [
          8.791211800026646
         ]
        }
       ],
       "layout": {
        "autosize": true,
        "margin": {
         "b": 0,
         "l": 0,
         "r": 0,
         "t": 0
        },
        "scene": {
         "aspectmode": "auto",
         "aspectratio": {
          "x": 0.6900178426185604,
          "y": 0.8117644822067223,
          "z": 1.785293540718531
         },
         "camera": {
          "center": {
           "x": 0,
           "y": 0,
           "z": 0
          },
          "eye": {
           "x": 1.636740081672474,
           "y": -0.7472861854127572,
           "z": 1.204219773188447
          },
          "projection": {
           "type": "perspective"
          },
          "up": {
           "x": 0,
           "y": 0,
           "z": 1
          }
         },
         "xaxis": {
          "title": {
           "text": "X"
          },
          "type": "linear"
         },
         "yaxis": {
          "title": {
           "text": "Y"
          },
          "type": "linear"
         },
         "zaxis": {
          "title": {
           "text": "Z"
          },
          "type": "linear"
         }
        },
        "template": {
         "data": {
          "bar": [
           {
            "error_x": {
             "color": "#2a3f5f"
            },
            "error_y": {
             "color": "#2a3f5f"
            },
            "marker": {
             "line": {
              "color": "#E5ECF6",
              "width": 0.5
             },
             "pattern": {
              "fillmode": "overlay",
              "size": 10,
              "solidity": 0.2
             }
            },
            "type": "bar"
           }
          ],
          "barpolar": [
           {
            "marker": {
             "line": {
              "color": "#E5ECF6",
              "width": 0.5
             },
             "pattern": {
              "fillmode": "overlay",
              "size": 10,
              "solidity": 0.2
             }
            },
            "type": "barpolar"
           }
          ],
          "carpet": [
           {
            "aaxis": {
             "endlinecolor": "#2a3f5f",
             "gridcolor": "white",
             "linecolor": "white",
             "minorgridcolor": "white",
             "startlinecolor": "#2a3f5f"
            },
            "baxis": {
             "endlinecolor": "#2a3f5f",
             "gridcolor": "white",
             "linecolor": "white",
             "minorgridcolor": "white",
             "startlinecolor": "#2a3f5f"
            },
            "type": "carpet"
           }
          ],
          "choropleth": [
           {
            "colorbar": {
             "outlinewidth": 0,
             "ticks": ""
            },
            "type": "choropleth"
           }
          ],
          "contour": [
           {
            "colorbar": {
             "outlinewidth": 0,
             "ticks": ""
            },
            "colorscale": [
             [
              0,
              "#0d0887"
             ],
             [
              0.1111111111111111,
              "#46039f"
             ],
             [
              0.2222222222222222,
              "#7201a8"
             ],
             [
              0.3333333333333333,
              "#9c179e"
             ],
             [
              0.4444444444444444,
              "#bd3786"
             ],
             [
              0.5555555555555556,
              "#d8576b"
             ],
             [
              0.6666666666666666,
              "#ed7953"
             ],
             [
              0.7777777777777778,
              "#fb9f3a"
             ],
             [
              0.8888888888888888,
              "#fdca26"
             ],
             [
              1,
              "#f0f921"
             ]
            ],
            "type": "contour"
           }
          ],
          "contourcarpet": [
           {
            "colorbar": {
             "outlinewidth": 0,
             "ticks": ""
            },
            "type": "contourcarpet"
           }
          ],
          "heatmap": [
           {
            "colorbar": {
             "outlinewidth": 0,
             "ticks": ""
            },
            "colorscale": [
             [
              0,
              "#0d0887"
             ],
             [
              0.1111111111111111,
              "#46039f"
             ],
             [
              0.2222222222222222,
              "#7201a8"
             ],
             [
              0.3333333333333333,
              "#9c179e"
             ],
             [
              0.4444444444444444,
              "#bd3786"
             ],
             [
              0.5555555555555556,
              "#d8576b"
             ],
             [
              0.6666666666666666,
              "#ed7953"
             ],
             [
              0.7777777777777778,
              "#fb9f3a"
             ],
             [
              0.8888888888888888,
              "#fdca26"
             ],
             [
              1,
              "#f0f921"
             ]
            ],
            "type": "heatmap"
           }
          ],
          "heatmapgl": [
           {
            "colorbar": {
             "outlinewidth": 0,
             "ticks": ""
            },
            "colorscale": [
             [
              0,
              "#0d0887"
             ],
             [
              0.1111111111111111,
              "#46039f"
             ],
             [
              0.2222222222222222,
              "#7201a8"
             ],
             [
              0.3333333333333333,
              "#9c179e"
             ],
             [
              0.4444444444444444,
              "#bd3786"
             ],
             [
              0.5555555555555556,
              "#d8576b"
             ],
             [
              0.6666666666666666,
              "#ed7953"
             ],
             [
              0.7777777777777778,
              "#fb9f3a"
             ],
             [
              0.8888888888888888,
              "#fdca26"
             ],
             [
              1,
              "#f0f921"
             ]
            ],
            "type": "heatmapgl"
           }
          ],
          "histogram": [
           {
            "marker": {
             "pattern": {
              "fillmode": "overlay",
              "size": 10,
              "solidity": 0.2
             }
            },
            "type": "histogram"
           }
          ],
          "histogram2d": [
           {
            "colorbar": {
             "outlinewidth": 0,
             "ticks": ""
            },
            "colorscale": [
             [
              0,
              "#0d0887"
             ],
             [
              0.1111111111111111,
              "#46039f"
             ],
             [
              0.2222222222222222,
              "#7201a8"
             ],
             [
              0.3333333333333333,
              "#9c179e"
             ],
             [
              0.4444444444444444,
              "#bd3786"
             ],
             [
              0.5555555555555556,
              "#d8576b"
             ],
             [
              0.6666666666666666,
              "#ed7953"
             ],
             [
              0.7777777777777778,
              "#fb9f3a"
             ],
             [
              0.8888888888888888,
              "#fdca26"
             ],
             [
              1,
              "#f0f921"
             ]
            ],
            "type": "histogram2d"
           }
          ],
          "histogram2dcontour": [
           {
            "colorbar": {
             "outlinewidth": 0,
             "ticks": ""
            },
            "colorscale": [
             [
              0,
              "#0d0887"
             ],
             [
              0.1111111111111111,
              "#46039f"
             ],
             [
              0.2222222222222222,
              "#7201a8"
             ],
             [
              0.3333333333333333,
              "#9c179e"
             ],
             [
              0.4444444444444444,
              "#bd3786"
             ],
             [
              0.5555555555555556,
              "#d8576b"
             ],
             [
              0.6666666666666666,
              "#ed7953"
             ],
             [
              0.7777777777777778,
              "#fb9f3a"
             ],
             [
              0.8888888888888888,
              "#fdca26"
             ],
             [
              1,
              "#f0f921"
             ]
            ],
            "type": "histogram2dcontour"
           }
          ],
          "mesh3d": [
           {
            "colorbar": {
             "outlinewidth": 0,
             "ticks": ""
            },
            "type": "mesh3d"
           }
          ],
          "parcoords": [
           {
            "line": {
             "colorbar": {
              "outlinewidth": 0,
              "ticks": ""
             }
            },
            "type": "parcoords"
           }
          ],
          "pie": [
           {
            "automargin": true,
            "type": "pie"
           }
          ],
          "scatter": [
           {
            "fillpattern": {
             "fillmode": "overlay",
             "size": 10,
             "solidity": 0.2
            },
            "type": "scatter"
           }
          ],
          "scatter3d": [
           {
            "line": {
             "colorbar": {
              "outlinewidth": 0,
              "ticks": ""
             }
            },
            "marker": {
             "colorbar": {
              "outlinewidth": 0,
              "ticks": ""
             }
            },
            "type": "scatter3d"
           }
          ],
          "scattercarpet": [
           {
            "marker": {
             "colorbar": {
              "outlinewidth": 0,
              "ticks": ""
             }
            },
            "type": "scattercarpet"
           }
          ],
          "scattergeo": [
           {
            "marker": {
             "colorbar": {
              "outlinewidth": 0,
              "ticks": ""
             }
            },
            "type": "scattergeo"
           }
          ],
          "scattergl": [
           {
            "marker": {
             "colorbar": {
              "outlinewidth": 0,
              "ticks": ""
             }
            },
            "type": "scattergl"
           }
          ],
          "scattermapbox": [
           {
            "marker": {
             "colorbar": {
              "outlinewidth": 0,
              "ticks": ""
             }
            },
            "type": "scattermapbox"
           }
          ],
          "scatterpolar": [
           {
            "marker": {
             "colorbar": {
              "outlinewidth": 0,
              "ticks": ""
             }
            },
            "type": "scatterpolar"
           }
          ],
          "scatterpolargl": [
           {
            "marker": {
             "colorbar": {
              "outlinewidth": 0,
              "ticks": ""
             }
            },
            "type": "scatterpolargl"
           }
          ],
          "scatterternary": [
           {
            "marker": {
             "colorbar": {
              "outlinewidth": 0,
              "ticks": ""
             }
            },
            "type": "scatterternary"
           }
          ],
          "surface": [
           {
            "colorbar": {
             "outlinewidth": 0,
             "ticks": ""
            },
            "colorscale": [
             [
              0,
              "#0d0887"
             ],
             [
              0.1111111111111111,
              "#46039f"
             ],
             [
              0.2222222222222222,
              "#7201a8"
             ],
             [
              0.3333333333333333,
              "#9c179e"
             ],
             [
              0.4444444444444444,
              "#bd3786"
             ],
             [
              0.5555555555555556,
              "#d8576b"
             ],
             [
              0.6666666666666666,
              "#ed7953"
             ],
             [
              0.7777777777777778,
              "#fb9f3a"
             ],
             [
              0.8888888888888888,
              "#fdca26"
             ],
             [
              1,
              "#f0f921"
             ]
            ],
            "type": "surface"
           }
          ],
          "table": [
           {
            "cells": {
             "fill": {
              "color": "#EBF0F8"
             },
             "line": {
              "color": "white"
             }
            },
            "header": {
             "fill": {
              "color": "#C8D4E3"
             },
             "line": {
              "color": "white"
             }
            },
            "type": "table"
           }
          ]
         },
         "layout": {
          "annotationdefaults": {
           "arrowcolor": "#2a3f5f",
           "arrowhead": 0,
           "arrowwidth": 1
          },
          "autotypenumbers": "strict",
          "coloraxis": {
           "colorbar": {
            "outlinewidth": 0,
            "ticks": ""
           }
          },
          "colorscale": {
           "diverging": [
            [
             0,
             "#8e0152"
            ],
            [
             0.1,
             "#c51b7d"
            ],
            [
             0.2,
             "#de77ae"
            ],
            [
             0.3,
             "#f1b6da"
            ],
            [
             0.4,
             "#fde0ef"
            ],
            [
             0.5,
             "#f7f7f7"
            ],
            [
             0.6,
             "#e6f5d0"
            ],
            [
             0.7,
             "#b8e186"
            ],
            [
             0.8,
             "#7fbc41"
            ],
            [
             0.9,
             "#4d9221"
            ],
            [
             1,
             "#276419"
            ]
           ],
           "sequential": [
            [
             0,
             "#0d0887"
            ],
            [
             0.1111111111111111,
             "#46039f"
            ],
            [
             0.2222222222222222,
             "#7201a8"
            ],
            [
             0.3333333333333333,
             "#9c179e"
            ],
            [
             0.4444444444444444,
             "#bd3786"
            ],
            [
             0.5555555555555556,
             "#d8576b"
            ],
            [
             0.6666666666666666,
             "#ed7953"
            ],
            [
             0.7777777777777778,
             "#fb9f3a"
            ],
            [
             0.8888888888888888,
             "#fdca26"
            ],
            [
             1,
             "#f0f921"
            ]
           ],
           "sequentialminus": [
            [
             0,
             "#0d0887"
            ],
            [
             0.1111111111111111,
             "#46039f"
            ],
            [
             0.2222222222222222,
             "#7201a8"
            ],
            [
             0.3333333333333333,
             "#9c179e"
            ],
            [
             0.4444444444444444,
             "#bd3786"
            ],
            [
             0.5555555555555556,
             "#d8576b"
            ],
            [
             0.6666666666666666,
             "#ed7953"
            ],
            [
             0.7777777777777778,
             "#fb9f3a"
            ],
            [
             0.8888888888888888,
             "#fdca26"
            ],
            [
             1,
             "#f0f921"
            ]
           ]
          },
          "colorway": [
           "#636efa",
           "#EF553B",
           "#00cc96",
           "#ab63fa",
           "#FFA15A",
           "#19d3f3",
           "#FF6692",
           "#B6E880",
           "#FF97FF",
           "#FECB52"
          ],
          "font": {
           "color": "#2a3f5f"
          },
          "geo": {
           "bgcolor": "white",
           "lakecolor": "white",
           "landcolor": "#E5ECF6",
           "showlakes": true,
           "showland": true,
           "subunitcolor": "white"
          },
          "hoverlabel": {
           "align": "left"
          },
          "hovermode": "closest",
          "mapbox": {
           "style": "light"
          },
          "paper_bgcolor": "white",
          "plot_bgcolor": "#E5ECF6",
          "polar": {
           "angularaxis": {
            "gridcolor": "white",
            "linecolor": "white",
            "ticks": ""
           },
           "bgcolor": "#E5ECF6",
           "radialaxis": {
            "gridcolor": "white",
            "linecolor": "white",
            "ticks": ""
           }
          },
          "scene": {
           "xaxis": {
            "backgroundcolor": "#E5ECF6",
            "gridcolor": "white",
            "gridwidth": 2,
            "linecolor": "white",
            "showbackground": true,
            "ticks": "",
            "zerolinecolor": "white"
           },
           "yaxis": {
            "backgroundcolor": "#E5ECF6",
            "gridcolor": "white",
            "gridwidth": 2,
            "linecolor": "white",
            "showbackground": true,
            "ticks": "",
            "zerolinecolor": "white"
           },
           "zaxis": {
            "backgroundcolor": "#E5ECF6",
            "gridcolor": "white",
            "gridwidth": 2,
            "linecolor": "white",
            "showbackground": true,
            "ticks": "",
            "zerolinecolor": "white"
           }
          },
          "shapedefaults": {
           "line": {
            "color": "#2a3f5f"
           }
          },
          "ternary": {
           "aaxis": {
            "gridcolor": "white",
            "linecolor": "white",
            "ticks": ""
           },
           "baxis": {
            "gridcolor": "white",
            "linecolor": "white",
            "ticks": ""
           },
           "bgcolor": "#E5ECF6",
           "caxis": {
            "gridcolor": "white",
            "linecolor": "white",
            "ticks": ""
           }
          },
          "title": {
           "x": 0.05
          },
          "xaxis": {
           "automargin": true,
           "gridcolor": "white",
           "linecolor": "white",
           "ticks": "",
           "title": {
            "standoff": 15
           },
           "zerolinecolor": "white",
           "zerolinewidth": 2
          },
          "yaxis": {
           "automargin": true,
           "gridcolor": "white",
           "linecolor": "white",
           "ticks": "",
           "title": {
            "standoff": 15
           },
           "zerolinecolor": "white",
           "zerolinewidth": 2
          }
         }
        },
        "title": {
         "text": "Crystal Structure"
        }
       }
      },
      "text/html": [
       "<div>                            <div id=\"f9248be0-4635-4bc2-ab11-51331297e9d0\" class=\"plotly-graph-div\" style=\"height:525px; width:100%;\"></div>            <script type=\"text/javascript\">                require([\"plotly\"], function(Plotly) {                    window.PLOTLYENV=window.PLOTLYENV || {};                                    if (document.getElementById(\"f9248be0-4635-4bc2-ab11-51331297e9d0\")) {                    Plotly.newPlot(                        \"f9248be0-4635-4bc2-ab11-51331297e9d0\",                        [{\"marker\":{\"color\":\"#8F00FF\",\"size\":5},\"mode\":\"markers\",\"name\":\"0\",\"text\":\"N\",\"x\":[0.0],\"y\":[0.0],\"z\":[0.0],\"type\":\"scatter3d\"},{\"marker\":{\"color\":\"#000000\",\"size\":5},\"mode\":\"markers\",\"name\":\"1\",\"text\":\"C\",\"x\":[-1.1342973009941393],\"y\":[-0.8547213569258455],\"z\":[-0.10028133456027813],\"type\":\"scatter3d\"},{\"marker\":{\"color\":\"#000000\",\"size\":5},\"mode\":\"markers\",\"name\":\"2\",\"text\":\"C\",\"x\":[-1.3678172366959873],\"y\":[-1.6444262228135327],\"z\":[1.1507952130351662],\"type\":\"scatter3d\"},{\"marker\":{\"color\":\"#FF0000\",\"size\":5},\"mode\":\"markers\",\"name\":\"3\",\"text\":\"O\",\"x\":[-2.3368993826386224],\"y\":[-2.4437310867474413],\"z\":[1.2079821706456353],\"type\":\"scatter3d\"},{\"marker\":{\"color\":\"#8F00FF\",\"size\":5},\"mode\":\"markers\",\"name\":\"4\",\"text\":\"N\",\"x\":[-0.5373044519934334],\"y\":[-1.5302766480709549],\"z\":[2.2848276704980264],\"type\":\"scatter3d\"},{\"marker\":{\"color\":\"#000000\",\"size\":5},\"mode\":\"markers\",\"name\":\"5\",\"text\":\"C\",\"x\":[-0.7305882343328002],\"y\":[-2.2724891257471618],\"z\":[3.5038375126712875],\"type\":\"scatter3d\"},{\"marker\":{\"color\":\"#000000\",\"size\":5},\"mode\":\"markers\",\"name\":\"6\",\"text\":\"C\",\"x\":[0.31375008634594365],\"y\":[-1.9423820021044886],\"z\":[4.545377343130987],\"type\":\"scatter3d\"},{\"marker\":{\"color\":\"#000000\",\"size\":5},\"mode\":\"markers\",\"name\":\"7\",\"text\":\"C\",\"x\":[0.30418261739553104],\"y\":[-0.477262347724533],\"z\":[4.9283861225012116],\"type\":\"scatter3d\"},{\"marker\":{\"color\":\"#000000\",\"size\":5},\"mode\":\"markers\",\"name\":\"8\",\"text\":\"C\",\"x\":[-1.0098995015567176],\"y\":[-0.04944947300970968],\"z\":[5.4962478099758565],\"type\":\"scatter3d\"},{\"marker\":{\"color\":\"#000000\",\"size\":5},\"mode\":\"markers\",\"name\":\"9\",\"text\":\"C\",\"x\":[-1.421618737039793],\"y\":[-0.7834293501712647],\"z\":[6.7274943882367975],\"type\":\"scatter3d\"},{\"marker\":{\"color\":\"#000000\",\"size\":5},\"mode\":\"markers\",\"name\":\"10\",\"text\":\"C\",\"x\":[-0.5056004196604148],\"y\":[-0.6542389641248367],\"z\":[7.874291841227406],\"type\":\"scatter3d\"},{\"marker\":{\"color\":\"#FF0000\",\"size\":5},\"mode\":\"markers\",\"name\":\"11\",\"text\":\"O\",\"x\":[0.4835979973145802],\"y\":[0.023214788527699887],\"z\":[7.780988601236788],\"type\":\"scatter3d\"},{\"marker\":{\"color\":\"#F0F8FF\",\"size\":5},\"mode\":\"markers\",\"name\":\"12\",\"text\":\"H\",\"x\":[-0.05731977218136553],\"y\":[0.7532836527085682],\"z\":[0.6891103556954071],\"type\":\"scatter3d\"},{\"marker\":{\"color\":\"#F0F8FF\",\"size\":5},\"mode\":\"markers\",\"name\":\"13\",\"text\":\"H\",\"x\":[0.5017723616694094],\"y\":[0.19739267696826854],\"z\":[-0.867928096811863],\"type\":\"scatter3d\"},{\"marker\":{\"color\":\"#F0F8FF\",\"size\":5},\"mode\":\"markers\",\"name\":\"14\",\"text\":\"H\",\"x\":[-0.9415070734480748],\"y\":[-1.5892755007000043],\"z\":[-0.9120800594026954],\"type\":\"scatter3d\"},{\"marker\":{\"color\":\"#F0F8FF\",\"size\":5},\"mode\":\"markers\",\"name\":\"15\",\"text\":\"H\",\"x\":[-2.0201162777584165],\"y\":[-0.26333915335606634],\"z\":[-0.3812040293075341],\"type\":\"scatter3d\"},{\"marker\":{\"color\":\"#F0F8FF\",\"size\":5},\"mode\":\"markers\",\"name\":\"16\",\"text\":\"H\",\"x\":[0.2637930953167743],\"y\":[-0.86111409954769],\"z\":[2.219442897061144],\"type\":\"scatter3d\"},{\"marker\":{\"color\":\"#F0F8FF\",\"size\":5},\"mode\":\"markers\",\"name\":\"17\",\"text\":\"H\",\"x\":[-1.7339470559391814],\"y\":[-2.043058420949018],\"z\":[3.9144032427367996],\"type\":\"scatter3d\"},{\"marker\":{\"color\":\"#F0F8FF\",\"size\":5},\"mode\":\"markers\",\"name\":\"18\",\"text\":\"H\",\"x\":[-0.7214965664736079],\"y\":[-3.3722146162525046],\"z\":[3.336820235213755],\"type\":\"scatter3d\"},{\"marker\":{\"color\":\"#F0F8FF\",\"size\":5},\"mode\":\"markers\",\"name\":\"19\",\"text\":\"H\",\"x\":[1.3285951055538208],\"y\":[-2.1901642424081116],\"z\":[4.21037476385402],\"type\":\"scatter3d\"},{\"marker\":{\"color\":\"#F0F8FF\",\"size\":5},\"mode\":\"markers\",\"name\":\"20\",\"text\":\"H\",\"x\":[0.10608765163763026],\"y\":[-2.5087885597918556],\"z\":[5.475714468002963],\"type\":\"scatter3d\"},{\"marker\":{\"color\":\"#F0F8FF\",\"size\":5},\"mode\":\"markers\",\"name\":\"21\",\"text\":\"H\",\"x\":[0.492493837051605],\"y\":[0.11684268851852063],\"z\":[3.991810738060763],\"type\":\"scatter3d\"},{\"marker\":{\"color\":\"#F0F8FF\",\"size\":5},\"mode\":\"markers\",\"name\":\"22\",\"text\":\"H\",\"x\":[1.1712077170296962],\"y\":[-0.33657546407586475],\"z\":[5.605779738163649],\"type\":\"scatter3d\"},{\"marker\":{\"color\":\"#F0F8FF\",\"size\":5},\"mode\":\"markers\",\"name\":\"23\",\"text\":\"H\",\"x\":[-1.776294852451048],\"y\":[-0.17730373346684888],\"z\":[4.7257963520647515],\"type\":\"scatter3d\"},{\"marker\":{\"color\":\"#F0F8FF\",\"size\":5},\"mode\":\"markers\",\"name\":\"24\",\"text\":\"H\",\"x\":[-1.0010463569958918],\"y\":[1.0398260439070433],\"z\":[5.758724914869406],\"type\":\"scatter3d\"},{\"marker\":{\"color\":\"#F0F8FF\",\"size\":5},\"mode\":\"markers\",\"name\":\"25\",\"text\":\"H\",\"x\":[-2.421737465776126],\"y\":[-0.41057097616086785],\"z\":[7.101558066905573],\"type\":\"scatter3d\"},{\"marker\":{\"color\":\"#F0F8FF\",\"size\":5},\"mode\":\"markers\",\"name\":\"26\",\"text\":\"H\",\"x\":[-1.625987892600841],\"y\":[-1.876942439678537],\"z\":[6.521532425122886],\"type\":\"scatter3d\"},{\"marker\":{\"color\":\"#F0F8FF\",\"size\":5},\"mode\":\"markers\",\"name\":\"27\",\"text\":\"H\",\"x\":[-0.7202009803393746],\"y\":[-1.1634064275037614],\"z\":[8.791211800026646],\"type\":\"scatter3d\"}],                        {\"template\":{\"data\":{\"histogram2dcontour\":[{\"type\":\"histogram2dcontour\",\"colorbar\":{\"outlinewidth\":0,\"ticks\":\"\"},\"colorscale\":[[0.0,\"#0d0887\"],[0.1111111111111111,\"#46039f\"],[0.2222222222222222,\"#7201a8\"],[0.3333333333333333,\"#9c179e\"],[0.4444444444444444,\"#bd3786\"],[0.5555555555555556,\"#d8576b\"],[0.6666666666666666,\"#ed7953\"],[0.7777777777777778,\"#fb9f3a\"],[0.8888888888888888,\"#fdca26\"],[1.0,\"#f0f921\"]]}],\"choropleth\":[{\"type\":\"choropleth\",\"colorbar\":{\"outlinewidth\":0,\"ticks\":\"\"}}],\"histogram2d\":[{\"type\":\"histogram2d\",\"colorbar\":{\"outlinewidth\":0,\"ticks\":\"\"},\"colorscale\":[[0.0,\"#0d0887\"],[0.1111111111111111,\"#46039f\"],[0.2222222222222222,\"#7201a8\"],[0.3333333333333333,\"#9c179e\"],[0.4444444444444444,\"#bd3786\"],[0.5555555555555556,\"#d8576b\"],[0.6666666666666666,\"#ed7953\"],[0.7777777777777778,\"#fb9f3a\"],[0.8888888888888888,\"#fdca26\"],[1.0,\"#f0f921\"]]}],\"heatmap\":[{\"type\":\"heatmap\",\"colorbar\":{\"outlinewidth\":0,\"ticks\":\"\"},\"colorscale\":[[0.0,\"#0d0887\"],[0.1111111111111111,\"#46039f\"],[0.2222222222222222,\"#7201a8\"],[0.3333333333333333,\"#9c179e\"],[0.4444444444444444,\"#bd3786\"],[0.5555555555555556,\"#d8576b\"],[0.6666666666666666,\"#ed7953\"],[0.7777777777777778,\"#fb9f3a\"],[0.8888888888888888,\"#fdca26\"],[1.0,\"#f0f921\"]]}],\"heatmapgl\":[{\"type\":\"heatmapgl\",\"colorbar\":{\"outlinewidth\":0,\"ticks\":\"\"},\"colorscale\":[[0.0,\"#0d0887\"],[0.1111111111111111,\"#46039f\"],[0.2222222222222222,\"#7201a8\"],[0.3333333333333333,\"#9c179e\"],[0.4444444444444444,\"#bd3786\"],[0.5555555555555556,\"#d8576b\"],[0.6666666666666666,\"#ed7953\"],[0.7777777777777778,\"#fb9f3a\"],[0.8888888888888888,\"#fdca26\"],[1.0,\"#f0f921\"]]}],\"contourcarpet\":[{\"type\":\"contourcarpet\",\"colorbar\":{\"outlinewidth\":0,\"ticks\":\"\"}}],\"contour\":[{\"type\":\"contour\",\"colorbar\":{\"outlinewidth\":0,\"ticks\":\"\"},\"colorscale\":[[0.0,\"#0d0887\"],[0.1111111111111111,\"#46039f\"],[0.2222222222222222,\"#7201a8\"],[0.3333333333333333,\"#9c179e\"],[0.4444444444444444,\"#bd3786\"],[0.5555555555555556,\"#d8576b\"],[0.6666666666666666,\"#ed7953\"],[0.7777777777777778,\"#fb9f3a\"],[0.8888888888888888,\"#fdca26\"],[1.0,\"#f0f921\"]]}],\"surface\":[{\"type\":\"surface\",\"colorbar\":{\"outlinewidth\":0,\"ticks\":\"\"},\"colorscale\":[[0.0,\"#0d0887\"],[0.1111111111111111,\"#46039f\"],[0.2222222222222222,\"#7201a8\"],[0.3333333333333333,\"#9c179e\"],[0.4444444444444444,\"#bd3786\"],[0.5555555555555556,\"#d8576b\"],[0.6666666666666666,\"#ed7953\"],[0.7777777777777778,\"#fb9f3a\"],[0.8888888888888888,\"#fdca26\"],[1.0,\"#f0f921\"]]}],\"mesh3d\":[{\"type\":\"mesh3d\",\"colorbar\":{\"outlinewidth\":0,\"ticks\":\"\"}}],\"scatter\":[{\"fillpattern\":{\"fillmode\":\"overlay\",\"size\":10,\"solidity\":0.2},\"type\":\"scatter\"}],\"parcoords\":[{\"type\":\"parcoords\",\"line\":{\"colorbar\":{\"outlinewidth\":0,\"ticks\":\"\"}}}],\"scatterpolargl\":[{\"type\":\"scatterpolargl\",\"marker\":{\"colorbar\":{\"outlinewidth\":0,\"ticks\":\"\"}}}],\"bar\":[{\"error_x\":{\"color\":\"#2a3f5f\"},\"error_y\":{\"color\":\"#2a3f5f\"},\"marker\":{\"line\":{\"color\":\"#E5ECF6\",\"width\":0.5},\"pattern\":{\"fillmode\":\"overlay\",\"size\":10,\"solidity\":0.2}},\"type\":\"bar\"}],\"scattergeo\":[{\"type\":\"scattergeo\",\"marker\":{\"colorbar\":{\"outlinewidth\":0,\"ticks\":\"\"}}}],\"scatterpolar\":[{\"type\":\"scatterpolar\",\"marker\":{\"colorbar\":{\"outlinewidth\":0,\"ticks\":\"\"}}}],\"histogram\":[{\"marker\":{\"pattern\":{\"fillmode\":\"overlay\",\"size\":10,\"solidity\":0.2}},\"type\":\"histogram\"}],\"scattergl\":[{\"type\":\"scattergl\",\"marker\":{\"colorbar\":{\"outlinewidth\":0,\"ticks\":\"\"}}}],\"scatter3d\":[{\"type\":\"scatter3d\",\"line\":{\"colorbar\":{\"outlinewidth\":0,\"ticks\":\"\"}},\"marker\":{\"colorbar\":{\"outlinewidth\":0,\"ticks\":\"\"}}}],\"scattermapbox\":[{\"type\":\"scattermapbox\",\"marker\":{\"colorbar\":{\"outlinewidth\":0,\"ticks\":\"\"}}}],\"scatterternary\":[{\"type\":\"scatterternary\",\"marker\":{\"colorbar\":{\"outlinewidth\":0,\"ticks\":\"\"}}}],\"scattercarpet\":[{\"type\":\"scattercarpet\",\"marker\":{\"colorbar\":{\"outlinewidth\":0,\"ticks\":\"\"}}}],\"carpet\":[{\"aaxis\":{\"endlinecolor\":\"#2a3f5f\",\"gridcolor\":\"white\",\"linecolor\":\"white\",\"minorgridcolor\":\"white\",\"startlinecolor\":\"#2a3f5f\"},\"baxis\":{\"endlinecolor\":\"#2a3f5f\",\"gridcolor\":\"white\",\"linecolor\":\"white\",\"minorgridcolor\":\"white\",\"startlinecolor\":\"#2a3f5f\"},\"type\":\"carpet\"}],\"table\":[{\"cells\":{\"fill\":{\"color\":\"#EBF0F8\"},\"line\":{\"color\":\"white\"}},\"header\":{\"fill\":{\"color\":\"#C8D4E3\"},\"line\":{\"color\":\"white\"}},\"type\":\"table\"}],\"barpolar\":[{\"marker\":{\"line\":{\"color\":\"#E5ECF6\",\"width\":0.5},\"pattern\":{\"fillmode\":\"overlay\",\"size\":10,\"solidity\":0.2}},\"type\":\"barpolar\"}],\"pie\":[{\"automargin\":true,\"type\":\"pie\"}]},\"layout\":{\"autotypenumbers\":\"strict\",\"colorway\":[\"#636efa\",\"#EF553B\",\"#00cc96\",\"#ab63fa\",\"#FFA15A\",\"#19d3f3\",\"#FF6692\",\"#B6E880\",\"#FF97FF\",\"#FECB52\"],\"font\":{\"color\":\"#2a3f5f\"},\"hovermode\":\"closest\",\"hoverlabel\":{\"align\":\"left\"},\"paper_bgcolor\":\"white\",\"plot_bgcolor\":\"#E5ECF6\",\"polar\":{\"bgcolor\":\"#E5ECF6\",\"angularaxis\":{\"gridcolor\":\"white\",\"linecolor\":\"white\",\"ticks\":\"\"},\"radialaxis\":{\"gridcolor\":\"white\",\"linecolor\":\"white\",\"ticks\":\"\"}},\"ternary\":{\"bgcolor\":\"#E5ECF6\",\"aaxis\":{\"gridcolor\":\"white\",\"linecolor\":\"white\",\"ticks\":\"\"},\"baxis\":{\"gridcolor\":\"white\",\"linecolor\":\"white\",\"ticks\":\"\"},\"caxis\":{\"gridcolor\":\"white\",\"linecolor\":\"white\",\"ticks\":\"\"}},\"coloraxis\":{\"colorbar\":{\"outlinewidth\":0,\"ticks\":\"\"}},\"colorscale\":{\"sequential\":[[0.0,\"#0d0887\"],[0.1111111111111111,\"#46039f\"],[0.2222222222222222,\"#7201a8\"],[0.3333333333333333,\"#9c179e\"],[0.4444444444444444,\"#bd3786\"],[0.5555555555555556,\"#d8576b\"],[0.6666666666666666,\"#ed7953\"],[0.7777777777777778,\"#fb9f3a\"],[0.8888888888888888,\"#fdca26\"],[1.0,\"#f0f921\"]],\"sequentialminus\":[[0.0,\"#0d0887\"],[0.1111111111111111,\"#46039f\"],[0.2222222222222222,\"#7201a8\"],[0.3333333333333333,\"#9c179e\"],[0.4444444444444444,\"#bd3786\"],[0.5555555555555556,\"#d8576b\"],[0.6666666666666666,\"#ed7953\"],[0.7777777777777778,\"#fb9f3a\"],[0.8888888888888888,\"#fdca26\"],[1.0,\"#f0f921\"]],\"diverging\":[[0,\"#8e0152\"],[0.1,\"#c51b7d\"],[0.2,\"#de77ae\"],[0.3,\"#f1b6da\"],[0.4,\"#fde0ef\"],[0.5,\"#f7f7f7\"],[0.6,\"#e6f5d0\"],[0.7,\"#b8e186\"],[0.8,\"#7fbc41\"],[0.9,\"#4d9221\"],[1,\"#276419\"]]},\"xaxis\":{\"gridcolor\":\"white\",\"linecolor\":\"white\",\"ticks\":\"\",\"title\":{\"standoff\":15},\"zerolinecolor\":\"white\",\"automargin\":true,\"zerolinewidth\":2},\"yaxis\":{\"gridcolor\":\"white\",\"linecolor\":\"white\",\"ticks\":\"\",\"title\":{\"standoff\":15},\"zerolinecolor\":\"white\",\"automargin\":true,\"zerolinewidth\":2},\"scene\":{\"xaxis\":{\"backgroundcolor\":\"#E5ECF6\",\"gridcolor\":\"white\",\"linecolor\":\"white\",\"showbackground\":true,\"ticks\":\"\",\"zerolinecolor\":\"white\",\"gridwidth\":2},\"yaxis\":{\"backgroundcolor\":\"#E5ECF6\",\"gridcolor\":\"white\",\"linecolor\":\"white\",\"showbackground\":true,\"ticks\":\"\",\"zerolinecolor\":\"white\",\"gridwidth\":2},\"zaxis\":{\"backgroundcolor\":\"#E5ECF6\",\"gridcolor\":\"white\",\"linecolor\":\"white\",\"showbackground\":true,\"ticks\":\"\",\"zerolinecolor\":\"white\",\"gridwidth\":2}},\"shapedefaults\":{\"line\":{\"color\":\"#2a3f5f\"}},\"annotationdefaults\":{\"arrowcolor\":\"#2a3f5f\",\"arrowhead\":0,\"arrowwidth\":1},\"geo\":{\"bgcolor\":\"white\",\"landcolor\":\"#E5ECF6\",\"subunitcolor\":\"white\",\"showland\":true,\"showlakes\":true,\"lakecolor\":\"white\"},\"title\":{\"x\":0.05},\"mapbox\":{\"style\":\"light\"}}},\"margin\":{\"l\":0,\"r\":0,\"b\":0,\"t\":0},\"title\":{\"text\":\"Crystal Structure\"},\"scene\":{\"xaxis\":{\"title\":{\"text\":\"X\"}},\"yaxis\":{\"title\":{\"text\":\"Y\"}},\"zaxis\":{\"title\":{\"text\":\"Z\"}}}},                        {\"responsive\": true}                    ).then(function(){\n",
       "                            \n",
       "var gd = document.getElementById('f9248be0-4635-4bc2-ab11-51331297e9d0');\n",
       "var x = new MutationObserver(function (mutations, observer) {{\n",
       "        var display = window.getComputedStyle(gd).display;\n",
       "        if (!display || display === 'none') {{\n",
       "            console.log([gd, 'removed!']);\n",
       "            Plotly.purge(gd);\n",
       "            observer.disconnect();\n",
       "        }}\n",
       "}});\n",
       "\n",
       "// Listen for the removal of the full notebook cells\n",
       "var notebookContainer = gd.closest('#notebook-container');\n",
       "if (notebookContainer) {{\n",
       "    x.observe(notebookContainer, {childList: true});\n",
       "}}\n",
       "\n",
       "// Listen for the clearing of the current output cell\n",
       "var outputEl = gd.closest('.output');\n",
       "if (outputEl) {{\n",
       "    x.observe(outputEl, {childList: true});\n",
       "}}\n",
       "\n",
       "                        })                };                });            </script>        </div>"
      ]
     },
     "metadata": {},
     "output_type": "display_data"
    }
   ],
   "source": [
    "importlib.reload(get_molecules)\n",
    "importlib.reload(visualize_crystal)\n",
    "smiles=\"NCC(=O)NCCCCCC(=O)\"\n",
    "atomic_nums, coords = get_molecules.get_molecules(smiles)\n",
    "\n",
    "# for i in range(len(coords)):\n",
    "#     print(atomic_nums[i], coords[i])\n",
    "\n",
    "visualize_crystal.plot_crystal(atomic_nums, coords)"
   ]
  },
  {
   "cell_type": "code",
   "execution_count": null,
   "id": "8918c75d-8600-4f52-a48f-61a74a20b677",
   "metadata": {},
   "outputs": [],
   "source": []
  }
 ],
 "metadata": {
  "kernelspec": {
   "display_name": "Python 3 (ipykernel)",
   "language": "python",
   "name": "python3"
  },
  "language_info": {
   "codemirror_mode": {
    "name": "ipython",
    "version": 3
   },
   "file_extension": ".py",
   "mimetype": "text/x-python",
   "name": "python",
   "nbconvert_exporter": "python",
   "pygments_lexer": "ipython3",
   "version": "3.11.9"
  }
 },
 "nbformat": 4,
 "nbformat_minor": 5
}
