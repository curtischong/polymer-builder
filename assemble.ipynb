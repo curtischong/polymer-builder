{
 "cells": [
  {
   "cell_type": "code",
   "execution_count": 45,
   "id": "920c1547-d3ac-420e-93ae-ff045cbfd417",
   "metadata": {},
   "outputs": [],
   "source": [
    "import math\n",
    "import numpy as np"
   ]
  },
  {
   "cell_type": "code",
   "execution_count": 57,
   "id": "129b0e85-5865-4370-aafd-4d4cf74eeb4e",
   "metadata": {},
   "outputs": [
    {
     "name": "stdout",
     "output_type": "stream",
     "text": [
      "The autoreload extension is already loaded. To reload it, use:\n",
      "  %reload_ext autoreload\n"
     ]
    }
   ],
   "source": [
    "import py3Dmol\n",
    "\n",
    "# ensure files are auto reloaded: https://stackoverflow.com/questions/4111640/how-to-reimport-module-to-python-then-code-be-changed-after-import\n",
    "%load_ext autoreload\n",
    "%autoreload 2\n",
    "\n",
    "from get_molecules import get_molecules\n",
    "\n",
    "smiles=\"NCC(=O)NCCCCCC(=O)\"\n",
    "atomic_nums, coords = get_molecules(smiles)"
   ]
  },
  {
   "cell_type": "code",
   "execution_count": 62,
   "id": "58a74027-981e-4380-a812-5ffc0a47d146",
   "metadata": {},
   "outputs": [
    {
     "name": "stdout",
     "output_type": "stream",
     "text": [
      "The autoreload extension is already loaded. To reload it, use:\n",
      "  %reload_ext autoreload\n"
     ]
    },
    {
     "data": {
      "application/vnd.plotly.v1+json": {
       "config": {
        "plotlyServerURL": "https://plot.ly"
       },
       "data": [
        {
         "marker": {
          "color": "#8F00FF",
          "size": 5
         },
         "mode": "markers",
         "name": "7",
         "type": "scatter3d",
         "x": [
          -4.411327292420465
         ],
         "y": [
          1.3346911778462325
         ],
         "z": [
          -1.9137616517011458
         ]
        },
        {
         "marker": {
          "color": "#000000",
          "size": 5
         },
         "mode": "markers",
         "name": "6",
         "type": "scatter3d",
         "x": [
          -4.115327323182564
         ],
         "y": [
          0.6690731571127753
         ],
         "z": [
          -0.6878993798182997
         ]
        },
        {
         "marker": {
          "color": "#000000",
          "size": 5
         },
         "mode": "markers",
         "name": "6",
         "type": "scatter3d",
         "x": [
          -2.6530256154177074
         ],
         "y": [
          0.4740292048334395
         ],
         "z": [
          -0.582875847822189
         ]
        },
        {
         "marker": {
          "color": "#FF0000",
          "size": 5
         },
         "mode": "markers",
         "name": "8",
         "type": "scatter3d",
         "x": [
          -1.92753628643039
         ],
         "y": [
          0.8891683321077364
         ],
         "z": [
          -1.5155984403742622
         ]
        },
        {
         "marker": {
          "color": "#8F00FF",
          "size": 5
         },
         "mode": "markers",
         "name": "7",
         "type": "scatter3d",
         "x": [
          -2.0250093522385675
         ],
         "y": [
          -0.15677438802043042
         ],
         "z": [
          0.5146498562705251
         ]
        },
        {
         "marker": {
          "color": "#000000",
          "size": 5
         },
         "mode": "markers",
         "name": "6",
         "type": "scatter3d",
         "x": [
          -0.6155324508170642
         ],
         "y": [
          -0.36058368370110255
         ],
         "z": [
          0.6462851967777294
         ]
        },
        {
         "marker": {
          "color": "#000000",
          "size": 5
         },
         "mode": "markers",
         "name": "6",
         "type": "scatter3d",
         "x": [
          -0.015561470698242496
         ],
         "y": [
          -1.1871660156479045
         ],
         "z": [
          -0.4408941659463517
         ]
        },
        {
         "marker": {
          "color": "#000000",
          "size": 5
         },
         "mode": "markers",
         "name": "6",
         "type": "scatter3d",
         "x": [
          1.4545794812255268
         ],
         "y": [
          -1.3383304904838624
         ],
         "z": [
          -0.19866627909480533
         ]
        },
        {
         "marker": {
          "color": "#000000",
          "size": 5
         },
         "mode": "markers",
         "name": "6",
         "type": "scatter3d",
         "x": [
          2.2141837597127694
         ],
         "y": [
          -0.05040093909539416
         ],
         "z": [
          -0.16467211002539806
         ]
        },
        {
         "marker": {
          "color": "#000000",
          "size": 5
         },
         "mode": "markers",
         "name": "6",
         "type": "scatter3d",
         "x": [
          3.7059052137675157
         ],
         "y": [
          -0.3104693750092819
         ],
         "z": [
          0.0833192500724759
         ]
        },
        {
         "marker": {
          "color": "#000000",
          "size": 5
         },
         "mode": "markers",
         "name": "6",
         "type": "scatter3d",
         "x": [
          4.448022148150698
         ],
         "y": [
          0.9783872419943732
         ],
         "z": [
          0.11456113017082956
         ]
        },
        {
         "marker": {
          "color": "#FF0000",
          "size": 5
         },
         "mode": "markers",
         "name": "8",
         "type": "scatter3d",
         "x": [
          5.642556068308972
         ],
         "y": [
          0.9289871903308174
         ],
         "z": [
          0.30274577001354
         ]
        },
        {
         "marker": {
          "color": "#F0F8FF",
          "size": 5
         },
         "mode": "markers",
         "name": "1",
         "type": "scatter3d",
         "x": [
          -4.445418541451551
         ],
         "y": [
          2.35578375552584
         ],
         "z": [
          -1.8656372860228227
         ]
        },
        {
         "marker": {
          "color": "#F0F8FF",
          "size": 5
         },
         "mode": "markers",
         "name": "1",
         "type": "scatter3d",
         "x": [
          -3.962297665739128
         ],
         "y": [
          0.9427465679143584
         ],
         "z": [
          -2.7527253245185848
         ]
        },
        {
         "marker": {
          "color": "#F0F8FF",
          "size": 5
         },
         "mode": "markers",
         "name": "1",
         "type": "scatter3d",
         "x": [
          -4.51735222943478
         ],
         "y": [
          1.2919158403838507
         ],
         "z": [
          0.13883832132177748
         ]
        },
        {
         "marker": {
          "color": "#F0F8FF",
          "size": 5
         },
         "mode": "markers",
         "name": "1",
         "type": "scatter3d",
         "x": [
          -4.629394926461896
         ],
         "y": [
          -0.3162404750631815
         ],
         "z": [
          -0.5846895704882227
         ]
        },
        {
         "marker": {
          "color": "#F0F8FF",
          "size": 5
         },
         "mode": "markers",
         "name": "1",
         "type": "scatter3d",
         "x": [
          -2.645538633804574
         ],
         "y": [
          -0.4950551119009173
         ],
         "z": [
          1.2799098384914551
         ]
        },
        {
         "marker": {
          "color": "#F0F8FF",
          "size": 5
         },
         "mode": "markers",
         "name": "1",
         "type": "scatter3d",
         "x": [
          -0.14313593444061484
         ],
         "y": [
          0.659840109103829
         ],
         "z": [
          0.5668203009727512
         ]
        },
        {
         "marker": {
          "color": "#F0F8FF",
          "size": 5
         },
         "mode": "markers",
         "name": "1",
         "type": "scatter3d",
         "x": [
          -0.38007893232955886
         ],
         "y": [
          -0.8396806392451868
         ],
         "z": [
          1.6096849623943807
         ]
        },
        {
         "marker": {
          "color": "#F0F8FF",
          "size": 5
         },
         "mode": "markers",
         "name": "1",
         "type": "scatter3d",
         "x": [
          -0.43924323677913657
         ],
         "y": [
          -2.2261939701006193
         ],
         "z": [
          -0.46998720030222874
         ]
        },
        {
         "marker": {
          "color": "#F0F8FF",
          "size": 5
         },
         "mode": "markers",
         "name": "1",
         "type": "scatter3d",
         "x": [
          -0.15519910223115083
         ],
         "y": [
          -0.6837132306134084
         ],
         "z": [
          -1.4235812583026235
         ]
        },
        {
         "marker": {
          "color": "#F0F8FF",
          "size": 5
         },
         "mode": "markers",
         "name": "1",
         "type": "scatter3d",
         "x": [
          1.6766930890535623
         ],
         "y": [
          -1.8731872546379489
         ],
         "z": [
          0.7596069998475007
         ]
        },
        {
         "marker": {
          "color": "#F0F8FF",
          "size": 5
         },
         "mode": "markers",
         "name": "1",
         "type": "scatter3d",
         "x": [
          1.9485303708856314
         ],
         "y": [
          -1.9709372271748595
         ],
         "z": [
          -0.9904146267415804
         ]
        },
        {
         "marker": {
          "color": "#F0F8FF",
          "size": 5
         },
         "mode": "markers",
         "name": "1",
         "type": "scatter3d",
         "x": [
          2.1539008520720238
         ],
         "y": [
          0.5093593312966886
         ],
         "z": [
          -1.1222283860985927
         ]
        },
        {
         "marker": {
          "color": "#F0F8FF",
          "size": 5
         },
         "mode": "markers",
         "name": "1",
         "type": "scatter3d",
         "x": [
          1.878884837014504
         ],
         "y": [
          0.651122474494611
         ],
         "z": [
          0.6304563966009084
         ]
        },
        {
         "marker": {
          "color": "#F0F8FF",
          "size": 5
         },
         "mode": "markers",
         "name": "1",
         "type": "scatter3d",
         "x": [
          4.125107208028802
         ],
         "y": [
          -0.886112671423118
         ],
         "z": [
          -0.7804149465784874
         ]
        },
        {
         "marker": {
          "color": "#F0F8FF",
          "size": 5
         },
         "mode": "markers",
         "name": "1",
         "type": "scatter3d",
         "x": [
          3.8685167470447435
         ],
         "y": [
          -0.9284607969017563
         ],
         "z": [
          0.9795883018404304
         ]
        },
        {
         "marker": {
          "color": "#F0F8FF",
          "size": 5
         },
         "mode": "markers",
         "name": "1",
         "type": "scatter3d",
         "x": [
          3.9640992186131228
         ],
         "y": [
          1.9382018860746442
         ],
         "z": [
          -0.02268528395419225
         ]
        }
       ],
       "layout": {
        "margin": {
         "b": 0,
         "l": 0,
         "r": 0,
         "t": 0
        },
        "scene": {
         "xaxis": {
          "title": {
           "text": "X"
          }
         },
         "yaxis": {
          "title": {
           "text": "Y"
          }
         },
         "zaxis": {
          "title": {
           "text": "Z"
          }
         }
        },
        "template": {
         "data": {
          "bar": [
           {
            "error_x": {
             "color": "#2a3f5f"
            },
            "error_y": {
             "color": "#2a3f5f"
            },
            "marker": {
             "line": {
              "color": "#E5ECF6",
              "width": 0.5
             },
             "pattern": {
              "fillmode": "overlay",
              "size": 10,
              "solidity": 0.2
             }
            },
            "type": "bar"
           }
          ],
          "barpolar": [
           {
            "marker": {
             "line": {
              "color": "#E5ECF6",
              "width": 0.5
             },
             "pattern": {
              "fillmode": "overlay",
              "size": 10,
              "solidity": 0.2
             }
            },
            "type": "barpolar"
           }
          ],
          "carpet": [
           {
            "aaxis": {
             "endlinecolor": "#2a3f5f",
             "gridcolor": "white",
             "linecolor": "white",
             "minorgridcolor": "white",
             "startlinecolor": "#2a3f5f"
            },
            "baxis": {
             "endlinecolor": "#2a3f5f",
             "gridcolor": "white",
             "linecolor": "white",
             "minorgridcolor": "white",
             "startlinecolor": "#2a3f5f"
            },
            "type": "carpet"
           }
          ],
          "choropleth": [
           {
            "colorbar": {
             "outlinewidth": 0,
             "ticks": ""
            },
            "type": "choropleth"
           }
          ],
          "contour": [
           {
            "colorbar": {
             "outlinewidth": 0,
             "ticks": ""
            },
            "colorscale": [
             [
              0,
              "#0d0887"
             ],
             [
              0.1111111111111111,
              "#46039f"
             ],
             [
              0.2222222222222222,
              "#7201a8"
             ],
             [
              0.3333333333333333,
              "#9c179e"
             ],
             [
              0.4444444444444444,
              "#bd3786"
             ],
             [
              0.5555555555555556,
              "#d8576b"
             ],
             [
              0.6666666666666666,
              "#ed7953"
             ],
             [
              0.7777777777777778,
              "#fb9f3a"
             ],
             [
              0.8888888888888888,
              "#fdca26"
             ],
             [
              1,
              "#f0f921"
             ]
            ],
            "type": "contour"
           }
          ],
          "contourcarpet": [
           {
            "colorbar": {
             "outlinewidth": 0,
             "ticks": ""
            },
            "type": "contourcarpet"
           }
          ],
          "heatmap": [
           {
            "colorbar": {
             "outlinewidth": 0,
             "ticks": ""
            },
            "colorscale": [
             [
              0,
              "#0d0887"
             ],
             [
              0.1111111111111111,
              "#46039f"
             ],
             [
              0.2222222222222222,
              "#7201a8"
             ],
             [
              0.3333333333333333,
              "#9c179e"
             ],
             [
              0.4444444444444444,
              "#bd3786"
             ],
             [
              0.5555555555555556,
              "#d8576b"
             ],
             [
              0.6666666666666666,
              "#ed7953"
             ],
             [
              0.7777777777777778,
              "#fb9f3a"
             ],
             [
              0.8888888888888888,
              "#fdca26"
             ],
             [
              1,
              "#f0f921"
             ]
            ],
            "type": "heatmap"
           }
          ],
          "heatmapgl": [
           {
            "colorbar": {
             "outlinewidth": 0,
             "ticks": ""
            },
            "colorscale": [
             [
              0,
              "#0d0887"
             ],
             [
              0.1111111111111111,
              "#46039f"
             ],
             [
              0.2222222222222222,
              "#7201a8"
             ],
             [
              0.3333333333333333,
              "#9c179e"
             ],
             [
              0.4444444444444444,
              "#bd3786"
             ],
             [
              0.5555555555555556,
              "#d8576b"
             ],
             [
              0.6666666666666666,
              "#ed7953"
             ],
             [
              0.7777777777777778,
              "#fb9f3a"
             ],
             [
              0.8888888888888888,
              "#fdca26"
             ],
             [
              1,
              "#f0f921"
             ]
            ],
            "type": "heatmapgl"
           }
          ],
          "histogram": [
           {
            "marker": {
             "pattern": {
              "fillmode": "overlay",
              "size": 10,
              "solidity": 0.2
             }
            },
            "type": "histogram"
           }
          ],
          "histogram2d": [
           {
            "colorbar": {
             "outlinewidth": 0,
             "ticks": ""
            },
            "colorscale": [
             [
              0,
              "#0d0887"
             ],
             [
              0.1111111111111111,
              "#46039f"
             ],
             [
              0.2222222222222222,
              "#7201a8"
             ],
             [
              0.3333333333333333,
              "#9c179e"
             ],
             [
              0.4444444444444444,
              "#bd3786"
             ],
             [
              0.5555555555555556,
              "#d8576b"
             ],
             [
              0.6666666666666666,
              "#ed7953"
             ],
             [
              0.7777777777777778,
              "#fb9f3a"
             ],
             [
              0.8888888888888888,
              "#fdca26"
             ],
             [
              1,
              "#f0f921"
             ]
            ],
            "type": "histogram2d"
           }
          ],
          "histogram2dcontour": [
           {
            "colorbar": {
             "outlinewidth": 0,
             "ticks": ""
            },
            "colorscale": [
             [
              0,
              "#0d0887"
             ],
             [
              0.1111111111111111,
              "#46039f"
             ],
             [
              0.2222222222222222,
              "#7201a8"
             ],
             [
              0.3333333333333333,
              "#9c179e"
             ],
             [
              0.4444444444444444,
              "#bd3786"
             ],
             [
              0.5555555555555556,
              "#d8576b"
             ],
             [
              0.6666666666666666,
              "#ed7953"
             ],
             [
              0.7777777777777778,
              "#fb9f3a"
             ],
             [
              0.8888888888888888,
              "#fdca26"
             ],
             [
              1,
              "#f0f921"
             ]
            ],
            "type": "histogram2dcontour"
           }
          ],
          "mesh3d": [
           {
            "colorbar": {
             "outlinewidth": 0,
             "ticks": ""
            },
            "type": "mesh3d"
           }
          ],
          "parcoords": [
           {
            "line": {
             "colorbar": {
              "outlinewidth": 0,
              "ticks": ""
             }
            },
            "type": "parcoords"
           }
          ],
          "pie": [
           {
            "automargin": true,
            "type": "pie"
           }
          ],
          "scatter": [
           {
            "fillpattern": {
             "fillmode": "overlay",
             "size": 10,
             "solidity": 0.2
            },
            "type": "scatter"
           }
          ],
          "scatter3d": [
           {
            "line": {
             "colorbar": {
              "outlinewidth": 0,
              "ticks": ""
             }
            },
            "marker": {
             "colorbar": {
              "outlinewidth": 0,
              "ticks": ""
             }
            },
            "type": "scatter3d"
           }
          ],
          "scattercarpet": [
           {
            "marker": {
             "colorbar": {
              "outlinewidth": 0,
              "ticks": ""
             }
            },
            "type": "scattercarpet"
           }
          ],
          "scattergeo": [
           {
            "marker": {
             "colorbar": {
              "outlinewidth": 0,
              "ticks": ""
             }
            },
            "type": "scattergeo"
           }
          ],
          "scattergl": [
           {
            "marker": {
             "colorbar": {
              "outlinewidth": 0,
              "ticks": ""
             }
            },
            "type": "scattergl"
           }
          ],
          "scattermapbox": [
           {
            "marker": {
             "colorbar": {
              "outlinewidth": 0,
              "ticks": ""
             }
            },
            "type": "scattermapbox"
           }
          ],
          "scatterpolar": [
           {
            "marker": {
             "colorbar": {
              "outlinewidth": 0,
              "ticks": ""
             }
            },
            "type": "scatterpolar"
           }
          ],
          "scatterpolargl": [
           {
            "marker": {
             "colorbar": {
              "outlinewidth": 0,
              "ticks": ""
             }
            },
            "type": "scatterpolargl"
           }
          ],
          "scatterternary": [
           {
            "marker": {
             "colorbar": {
              "outlinewidth": 0,
              "ticks": ""
             }
            },
            "type": "scatterternary"
           }
          ],
          "surface": [
           {
            "colorbar": {
             "outlinewidth": 0,
             "ticks": ""
            },
            "colorscale": [
             [
              0,
              "#0d0887"
             ],
             [
              0.1111111111111111,
              "#46039f"
             ],
             [
              0.2222222222222222,
              "#7201a8"
             ],
             [
              0.3333333333333333,
              "#9c179e"
             ],
             [
              0.4444444444444444,
              "#bd3786"
             ],
             [
              0.5555555555555556,
              "#d8576b"
             ],
             [
              0.6666666666666666,
              "#ed7953"
             ],
             [
              0.7777777777777778,
              "#fb9f3a"
             ],
             [
              0.8888888888888888,
              "#fdca26"
             ],
             [
              1,
              "#f0f921"
             ]
            ],
            "type": "surface"
           }
          ],
          "table": [
           {
            "cells": {
             "fill": {
              "color": "#EBF0F8"
             },
             "line": {
              "color": "white"
             }
            },
            "header": {
             "fill": {
              "color": "#C8D4E3"
             },
             "line": {
              "color": "white"
             }
            },
            "type": "table"
           }
          ]
         },
         "layout": {
          "annotationdefaults": {
           "arrowcolor": "#2a3f5f",
           "arrowhead": 0,
           "arrowwidth": 1
          },
          "autotypenumbers": "strict",
          "coloraxis": {
           "colorbar": {
            "outlinewidth": 0,
            "ticks": ""
           }
          },
          "colorscale": {
           "diverging": [
            [
             0,
             "#8e0152"
            ],
            [
             0.1,
             "#c51b7d"
            ],
            [
             0.2,
             "#de77ae"
            ],
            [
             0.3,
             "#f1b6da"
            ],
            [
             0.4,
             "#fde0ef"
            ],
            [
             0.5,
             "#f7f7f7"
            ],
            [
             0.6,
             "#e6f5d0"
            ],
            [
             0.7,
             "#b8e186"
            ],
            [
             0.8,
             "#7fbc41"
            ],
            [
             0.9,
             "#4d9221"
            ],
            [
             1,
             "#276419"
            ]
           ],
           "sequential": [
            [
             0,
             "#0d0887"
            ],
            [
             0.1111111111111111,
             "#46039f"
            ],
            [
             0.2222222222222222,
             "#7201a8"
            ],
            [
             0.3333333333333333,
             "#9c179e"
            ],
            [
             0.4444444444444444,
             "#bd3786"
            ],
            [
             0.5555555555555556,
             "#d8576b"
            ],
            [
             0.6666666666666666,
             "#ed7953"
            ],
            [
             0.7777777777777778,
             "#fb9f3a"
            ],
            [
             0.8888888888888888,
             "#fdca26"
            ],
            [
             1,
             "#f0f921"
            ]
           ],
           "sequentialminus": [
            [
             0,
             "#0d0887"
            ],
            [
             0.1111111111111111,
             "#46039f"
            ],
            [
             0.2222222222222222,
             "#7201a8"
            ],
            [
             0.3333333333333333,
             "#9c179e"
            ],
            [
             0.4444444444444444,
             "#bd3786"
            ],
            [
             0.5555555555555556,
             "#d8576b"
            ],
            [
             0.6666666666666666,
             "#ed7953"
            ],
            [
             0.7777777777777778,
             "#fb9f3a"
            ],
            [
             0.8888888888888888,
             "#fdca26"
            ],
            [
             1,
             "#f0f921"
            ]
           ]
          },
          "colorway": [
           "#636efa",
           "#EF553B",
           "#00cc96",
           "#ab63fa",
           "#FFA15A",
           "#19d3f3",
           "#FF6692",
           "#B6E880",
           "#FF97FF",
           "#FECB52"
          ],
          "font": {
           "color": "#2a3f5f"
          },
          "geo": {
           "bgcolor": "white",
           "lakecolor": "white",
           "landcolor": "#E5ECF6",
           "showlakes": true,
           "showland": true,
           "subunitcolor": "white"
          },
          "hoverlabel": {
           "align": "left"
          },
          "hovermode": "closest",
          "mapbox": {
           "style": "light"
          },
          "paper_bgcolor": "white",
          "plot_bgcolor": "#E5ECF6",
          "polar": {
           "angularaxis": {
            "gridcolor": "white",
            "linecolor": "white",
            "ticks": ""
           },
           "bgcolor": "#E5ECF6",
           "radialaxis": {
            "gridcolor": "white",
            "linecolor": "white",
            "ticks": ""
           }
          },
          "scene": {
           "xaxis": {
            "backgroundcolor": "#E5ECF6",
            "gridcolor": "white",
            "gridwidth": 2,
            "linecolor": "white",
            "showbackground": true,
            "ticks": "",
            "zerolinecolor": "white"
           },
           "yaxis": {
            "backgroundcolor": "#E5ECF6",
            "gridcolor": "white",
            "gridwidth": 2,
            "linecolor": "white",
            "showbackground": true,
            "ticks": "",
            "zerolinecolor": "white"
           },
           "zaxis": {
            "backgroundcolor": "#E5ECF6",
            "gridcolor": "white",
            "gridwidth": 2,
            "linecolor": "white",
            "showbackground": true,
            "ticks": "",
            "zerolinecolor": "white"
           }
          },
          "shapedefaults": {
           "line": {
            "color": "#2a3f5f"
           }
          },
          "ternary": {
           "aaxis": {
            "gridcolor": "white",
            "linecolor": "white",
            "ticks": ""
           },
           "baxis": {
            "gridcolor": "white",
            "linecolor": "white",
            "ticks": ""
           },
           "bgcolor": "#E5ECF6",
           "caxis": {
            "gridcolor": "white",
            "linecolor": "white",
            "ticks": ""
           }
          },
          "title": {
           "x": 0.05
          },
          "xaxis": {
           "automargin": true,
           "gridcolor": "white",
           "linecolor": "white",
           "ticks": "",
           "title": {
            "standoff": 15
           },
           "zerolinecolor": "white",
           "zerolinewidth": 2
          },
          "yaxis": {
           "automargin": true,
           "gridcolor": "white",
           "linecolor": "white",
           "ticks": "",
           "title": {
            "standoff": 15
           },
           "zerolinecolor": "white",
           "zerolinewidth": 2
          }
         }
        },
        "title": {
         "text": "Crystal Structure"
        }
       }
      },
      "text/html": [
       "<div>                            <div id=\"d5f6bc22-6972-4f00-8cd5-01f2d2bb2255\" class=\"plotly-graph-div\" style=\"height:525px; width:100%;\"></div>            <script type=\"text/javascript\">                require([\"plotly\"], function(Plotly) {                    window.PLOTLYENV=window.PLOTLYENV || {};                                    if (document.getElementById(\"d5f6bc22-6972-4f00-8cd5-01f2d2bb2255\")) {                    Plotly.newPlot(                        \"d5f6bc22-6972-4f00-8cd5-01f2d2bb2255\",                        [{\"marker\":{\"color\":\"#8F00FF\",\"size\":5},\"mode\":\"markers\",\"name\":\"7\",\"x\":[-4.411327292420465],\"y\":[1.3346911778462325],\"z\":[-1.9137616517011458],\"type\":\"scatter3d\"},{\"marker\":{\"color\":\"#000000\",\"size\":5},\"mode\":\"markers\",\"name\":\"6\",\"x\":[-4.115327323182564],\"y\":[0.6690731571127753],\"z\":[-0.6878993798182997],\"type\":\"scatter3d\"},{\"marker\":{\"color\":\"#000000\",\"size\":5},\"mode\":\"markers\",\"name\":\"6\",\"x\":[-2.6530256154177074],\"y\":[0.4740292048334395],\"z\":[-0.582875847822189],\"type\":\"scatter3d\"},{\"marker\":{\"color\":\"#FF0000\",\"size\":5},\"mode\":\"markers\",\"name\":\"8\",\"x\":[-1.92753628643039],\"y\":[0.8891683321077364],\"z\":[-1.5155984403742622],\"type\":\"scatter3d\"},{\"marker\":{\"color\":\"#8F00FF\",\"size\":5},\"mode\":\"markers\",\"name\":\"7\",\"x\":[-2.0250093522385675],\"y\":[-0.15677438802043042],\"z\":[0.5146498562705251],\"type\":\"scatter3d\"},{\"marker\":{\"color\":\"#000000\",\"size\":5},\"mode\":\"markers\",\"name\":\"6\",\"x\":[-0.6155324508170642],\"y\":[-0.36058368370110255],\"z\":[0.6462851967777294],\"type\":\"scatter3d\"},{\"marker\":{\"color\":\"#000000\",\"size\":5},\"mode\":\"markers\",\"name\":\"6\",\"x\":[-0.015561470698242496],\"y\":[-1.1871660156479045],\"z\":[-0.4408941659463517],\"type\":\"scatter3d\"},{\"marker\":{\"color\":\"#000000\",\"size\":5},\"mode\":\"markers\",\"name\":\"6\",\"x\":[1.4545794812255268],\"y\":[-1.3383304904838624],\"z\":[-0.19866627909480533],\"type\":\"scatter3d\"},{\"marker\":{\"color\":\"#000000\",\"size\":5},\"mode\":\"markers\",\"name\":\"6\",\"x\":[2.2141837597127694],\"y\":[-0.05040093909539416],\"z\":[-0.16467211002539806],\"type\":\"scatter3d\"},{\"marker\":{\"color\":\"#000000\",\"size\":5},\"mode\":\"markers\",\"name\":\"6\",\"x\":[3.7059052137675157],\"y\":[-0.3104693750092819],\"z\":[0.0833192500724759],\"type\":\"scatter3d\"},{\"marker\":{\"color\":\"#000000\",\"size\":5},\"mode\":\"markers\",\"name\":\"6\",\"x\":[4.448022148150698],\"y\":[0.9783872419943732],\"z\":[0.11456113017082956],\"type\":\"scatter3d\"},{\"marker\":{\"color\":\"#FF0000\",\"size\":5},\"mode\":\"markers\",\"name\":\"8\",\"x\":[5.642556068308972],\"y\":[0.9289871903308174],\"z\":[0.30274577001354],\"type\":\"scatter3d\"},{\"marker\":{\"color\":\"#F0F8FF\",\"size\":5},\"mode\":\"markers\",\"name\":\"1\",\"x\":[-4.445418541451551],\"y\":[2.35578375552584],\"z\":[-1.8656372860228227],\"type\":\"scatter3d\"},{\"marker\":{\"color\":\"#F0F8FF\",\"size\":5},\"mode\":\"markers\",\"name\":\"1\",\"x\":[-3.962297665739128],\"y\":[0.9427465679143584],\"z\":[-2.7527253245185848],\"type\":\"scatter3d\"},{\"marker\":{\"color\":\"#F0F8FF\",\"size\":5},\"mode\":\"markers\",\"name\":\"1\",\"x\":[-4.51735222943478],\"y\":[1.2919158403838507],\"z\":[0.13883832132177748],\"type\":\"scatter3d\"},{\"marker\":{\"color\":\"#F0F8FF\",\"size\":5},\"mode\":\"markers\",\"name\":\"1\",\"x\":[-4.629394926461896],\"y\":[-0.3162404750631815],\"z\":[-0.5846895704882227],\"type\":\"scatter3d\"},{\"marker\":{\"color\":\"#F0F8FF\",\"size\":5},\"mode\":\"markers\",\"name\":\"1\",\"x\":[-2.645538633804574],\"y\":[-0.4950551119009173],\"z\":[1.2799098384914551],\"type\":\"scatter3d\"},{\"marker\":{\"color\":\"#F0F8FF\",\"size\":5},\"mode\":\"markers\",\"name\":\"1\",\"x\":[-0.14313593444061484],\"y\":[0.659840109103829],\"z\":[0.5668203009727512],\"type\":\"scatter3d\"},{\"marker\":{\"color\":\"#F0F8FF\",\"size\":5},\"mode\":\"markers\",\"name\":\"1\",\"x\":[-0.38007893232955886],\"y\":[-0.8396806392451868],\"z\":[1.6096849623943807],\"type\":\"scatter3d\"},{\"marker\":{\"color\":\"#F0F8FF\",\"size\":5},\"mode\":\"markers\",\"name\":\"1\",\"x\":[-0.43924323677913657],\"y\":[-2.2261939701006193],\"z\":[-0.46998720030222874],\"type\":\"scatter3d\"},{\"marker\":{\"color\":\"#F0F8FF\",\"size\":5},\"mode\":\"markers\",\"name\":\"1\",\"x\":[-0.15519910223115083],\"y\":[-0.6837132306134084],\"z\":[-1.4235812583026235],\"type\":\"scatter3d\"},{\"marker\":{\"color\":\"#F0F8FF\",\"size\":5},\"mode\":\"markers\",\"name\":\"1\",\"x\":[1.6766930890535623],\"y\":[-1.8731872546379489],\"z\":[0.7596069998475007],\"type\":\"scatter3d\"},{\"marker\":{\"color\":\"#F0F8FF\",\"size\":5},\"mode\":\"markers\",\"name\":\"1\",\"x\":[1.9485303708856314],\"y\":[-1.9709372271748595],\"z\":[-0.9904146267415804],\"type\":\"scatter3d\"},{\"marker\":{\"color\":\"#F0F8FF\",\"size\":5},\"mode\":\"markers\",\"name\":\"1\",\"x\":[2.1539008520720238],\"y\":[0.5093593312966886],\"z\":[-1.1222283860985927],\"type\":\"scatter3d\"},{\"marker\":{\"color\":\"#F0F8FF\",\"size\":5},\"mode\":\"markers\",\"name\":\"1\",\"x\":[1.878884837014504],\"y\":[0.651122474494611],\"z\":[0.6304563966009084],\"type\":\"scatter3d\"},{\"marker\":{\"color\":\"#F0F8FF\",\"size\":5},\"mode\":\"markers\",\"name\":\"1\",\"x\":[4.125107208028802],\"y\":[-0.886112671423118],\"z\":[-0.7804149465784874],\"type\":\"scatter3d\"},{\"marker\":{\"color\":\"#F0F8FF\",\"size\":5},\"mode\":\"markers\",\"name\":\"1\",\"x\":[3.8685167470447435],\"y\":[-0.9284607969017563],\"z\":[0.9795883018404304],\"type\":\"scatter3d\"},{\"marker\":{\"color\":\"#F0F8FF\",\"size\":5},\"mode\":\"markers\",\"name\":\"1\",\"x\":[3.9640992186131228],\"y\":[1.9382018860746442],\"z\":[-0.02268528395419225],\"type\":\"scatter3d\"}],                        {\"template\":{\"data\":{\"histogram2dcontour\":[{\"type\":\"histogram2dcontour\",\"colorbar\":{\"outlinewidth\":0,\"ticks\":\"\"},\"colorscale\":[[0.0,\"#0d0887\"],[0.1111111111111111,\"#46039f\"],[0.2222222222222222,\"#7201a8\"],[0.3333333333333333,\"#9c179e\"],[0.4444444444444444,\"#bd3786\"],[0.5555555555555556,\"#d8576b\"],[0.6666666666666666,\"#ed7953\"],[0.7777777777777778,\"#fb9f3a\"],[0.8888888888888888,\"#fdca26\"],[1.0,\"#f0f921\"]]}],\"choropleth\":[{\"type\":\"choropleth\",\"colorbar\":{\"outlinewidth\":0,\"ticks\":\"\"}}],\"histogram2d\":[{\"type\":\"histogram2d\",\"colorbar\":{\"outlinewidth\":0,\"ticks\":\"\"},\"colorscale\":[[0.0,\"#0d0887\"],[0.1111111111111111,\"#46039f\"],[0.2222222222222222,\"#7201a8\"],[0.3333333333333333,\"#9c179e\"],[0.4444444444444444,\"#bd3786\"],[0.5555555555555556,\"#d8576b\"],[0.6666666666666666,\"#ed7953\"],[0.7777777777777778,\"#fb9f3a\"],[0.8888888888888888,\"#fdca26\"],[1.0,\"#f0f921\"]]}],\"heatmap\":[{\"type\":\"heatmap\",\"colorbar\":{\"outlinewidth\":0,\"ticks\":\"\"},\"colorscale\":[[0.0,\"#0d0887\"],[0.1111111111111111,\"#46039f\"],[0.2222222222222222,\"#7201a8\"],[0.3333333333333333,\"#9c179e\"],[0.4444444444444444,\"#bd3786\"],[0.5555555555555556,\"#d8576b\"],[0.6666666666666666,\"#ed7953\"],[0.7777777777777778,\"#fb9f3a\"],[0.8888888888888888,\"#fdca26\"],[1.0,\"#f0f921\"]]}],\"heatmapgl\":[{\"type\":\"heatmapgl\",\"colorbar\":{\"outlinewidth\":0,\"ticks\":\"\"},\"colorscale\":[[0.0,\"#0d0887\"],[0.1111111111111111,\"#46039f\"],[0.2222222222222222,\"#7201a8\"],[0.3333333333333333,\"#9c179e\"],[0.4444444444444444,\"#bd3786\"],[0.5555555555555556,\"#d8576b\"],[0.6666666666666666,\"#ed7953\"],[0.7777777777777778,\"#fb9f3a\"],[0.8888888888888888,\"#fdca26\"],[1.0,\"#f0f921\"]]}],\"contourcarpet\":[{\"type\":\"contourcarpet\",\"colorbar\":{\"outlinewidth\":0,\"ticks\":\"\"}}],\"contour\":[{\"type\":\"contour\",\"colorbar\":{\"outlinewidth\":0,\"ticks\":\"\"},\"colorscale\":[[0.0,\"#0d0887\"],[0.1111111111111111,\"#46039f\"],[0.2222222222222222,\"#7201a8\"],[0.3333333333333333,\"#9c179e\"],[0.4444444444444444,\"#bd3786\"],[0.5555555555555556,\"#d8576b\"],[0.6666666666666666,\"#ed7953\"],[0.7777777777777778,\"#fb9f3a\"],[0.8888888888888888,\"#fdca26\"],[1.0,\"#f0f921\"]]}],\"surface\":[{\"type\":\"surface\",\"colorbar\":{\"outlinewidth\":0,\"ticks\":\"\"},\"colorscale\":[[0.0,\"#0d0887\"],[0.1111111111111111,\"#46039f\"],[0.2222222222222222,\"#7201a8\"],[0.3333333333333333,\"#9c179e\"],[0.4444444444444444,\"#bd3786\"],[0.5555555555555556,\"#d8576b\"],[0.6666666666666666,\"#ed7953\"],[0.7777777777777778,\"#fb9f3a\"],[0.8888888888888888,\"#fdca26\"],[1.0,\"#f0f921\"]]}],\"mesh3d\":[{\"type\":\"mesh3d\",\"colorbar\":{\"outlinewidth\":0,\"ticks\":\"\"}}],\"scatter\":[{\"fillpattern\":{\"fillmode\":\"overlay\",\"size\":10,\"solidity\":0.2},\"type\":\"scatter\"}],\"parcoords\":[{\"type\":\"parcoords\",\"line\":{\"colorbar\":{\"outlinewidth\":0,\"ticks\":\"\"}}}],\"scatterpolargl\":[{\"type\":\"scatterpolargl\",\"marker\":{\"colorbar\":{\"outlinewidth\":0,\"ticks\":\"\"}}}],\"bar\":[{\"error_x\":{\"color\":\"#2a3f5f\"},\"error_y\":{\"color\":\"#2a3f5f\"},\"marker\":{\"line\":{\"color\":\"#E5ECF6\",\"width\":0.5},\"pattern\":{\"fillmode\":\"overlay\",\"size\":10,\"solidity\":0.2}},\"type\":\"bar\"}],\"scattergeo\":[{\"type\":\"scattergeo\",\"marker\":{\"colorbar\":{\"outlinewidth\":0,\"ticks\":\"\"}}}],\"scatterpolar\":[{\"type\":\"scatterpolar\",\"marker\":{\"colorbar\":{\"outlinewidth\":0,\"ticks\":\"\"}}}],\"histogram\":[{\"marker\":{\"pattern\":{\"fillmode\":\"overlay\",\"size\":10,\"solidity\":0.2}},\"type\":\"histogram\"}],\"scattergl\":[{\"type\":\"scattergl\",\"marker\":{\"colorbar\":{\"outlinewidth\":0,\"ticks\":\"\"}}}],\"scatter3d\":[{\"type\":\"scatter3d\",\"line\":{\"colorbar\":{\"outlinewidth\":0,\"ticks\":\"\"}},\"marker\":{\"colorbar\":{\"outlinewidth\":0,\"ticks\":\"\"}}}],\"scattermapbox\":[{\"type\":\"scattermapbox\",\"marker\":{\"colorbar\":{\"outlinewidth\":0,\"ticks\":\"\"}}}],\"scatterternary\":[{\"type\":\"scatterternary\",\"marker\":{\"colorbar\":{\"outlinewidth\":0,\"ticks\":\"\"}}}],\"scattercarpet\":[{\"type\":\"scattercarpet\",\"marker\":{\"colorbar\":{\"outlinewidth\":0,\"ticks\":\"\"}}}],\"carpet\":[{\"aaxis\":{\"endlinecolor\":\"#2a3f5f\",\"gridcolor\":\"white\",\"linecolor\":\"white\",\"minorgridcolor\":\"white\",\"startlinecolor\":\"#2a3f5f\"},\"baxis\":{\"endlinecolor\":\"#2a3f5f\",\"gridcolor\":\"white\",\"linecolor\":\"white\",\"minorgridcolor\":\"white\",\"startlinecolor\":\"#2a3f5f\"},\"type\":\"carpet\"}],\"table\":[{\"cells\":{\"fill\":{\"color\":\"#EBF0F8\"},\"line\":{\"color\":\"white\"}},\"header\":{\"fill\":{\"color\":\"#C8D4E3\"},\"line\":{\"color\":\"white\"}},\"type\":\"table\"}],\"barpolar\":[{\"marker\":{\"line\":{\"color\":\"#E5ECF6\",\"width\":0.5},\"pattern\":{\"fillmode\":\"overlay\",\"size\":10,\"solidity\":0.2}},\"type\":\"barpolar\"}],\"pie\":[{\"automargin\":true,\"type\":\"pie\"}]},\"layout\":{\"autotypenumbers\":\"strict\",\"colorway\":[\"#636efa\",\"#EF553B\",\"#00cc96\",\"#ab63fa\",\"#FFA15A\",\"#19d3f3\",\"#FF6692\",\"#B6E880\",\"#FF97FF\",\"#FECB52\"],\"font\":{\"color\":\"#2a3f5f\"},\"hovermode\":\"closest\",\"hoverlabel\":{\"align\":\"left\"},\"paper_bgcolor\":\"white\",\"plot_bgcolor\":\"#E5ECF6\",\"polar\":{\"bgcolor\":\"#E5ECF6\",\"angularaxis\":{\"gridcolor\":\"white\",\"linecolor\":\"white\",\"ticks\":\"\"},\"radialaxis\":{\"gridcolor\":\"white\",\"linecolor\":\"white\",\"ticks\":\"\"}},\"ternary\":{\"bgcolor\":\"#E5ECF6\",\"aaxis\":{\"gridcolor\":\"white\",\"linecolor\":\"white\",\"ticks\":\"\"},\"baxis\":{\"gridcolor\":\"white\",\"linecolor\":\"white\",\"ticks\":\"\"},\"caxis\":{\"gridcolor\":\"white\",\"linecolor\":\"white\",\"ticks\":\"\"}},\"coloraxis\":{\"colorbar\":{\"outlinewidth\":0,\"ticks\":\"\"}},\"colorscale\":{\"sequential\":[[0.0,\"#0d0887\"],[0.1111111111111111,\"#46039f\"],[0.2222222222222222,\"#7201a8\"],[0.3333333333333333,\"#9c179e\"],[0.4444444444444444,\"#bd3786\"],[0.5555555555555556,\"#d8576b\"],[0.6666666666666666,\"#ed7953\"],[0.7777777777777778,\"#fb9f3a\"],[0.8888888888888888,\"#fdca26\"],[1.0,\"#f0f921\"]],\"sequentialminus\":[[0.0,\"#0d0887\"],[0.1111111111111111,\"#46039f\"],[0.2222222222222222,\"#7201a8\"],[0.3333333333333333,\"#9c179e\"],[0.4444444444444444,\"#bd3786\"],[0.5555555555555556,\"#d8576b\"],[0.6666666666666666,\"#ed7953\"],[0.7777777777777778,\"#fb9f3a\"],[0.8888888888888888,\"#fdca26\"],[1.0,\"#f0f921\"]],\"diverging\":[[0,\"#8e0152\"],[0.1,\"#c51b7d\"],[0.2,\"#de77ae\"],[0.3,\"#f1b6da\"],[0.4,\"#fde0ef\"],[0.5,\"#f7f7f7\"],[0.6,\"#e6f5d0\"],[0.7,\"#b8e186\"],[0.8,\"#7fbc41\"],[0.9,\"#4d9221\"],[1,\"#276419\"]]},\"xaxis\":{\"gridcolor\":\"white\",\"linecolor\":\"white\",\"ticks\":\"\",\"title\":{\"standoff\":15},\"zerolinecolor\":\"white\",\"automargin\":true,\"zerolinewidth\":2},\"yaxis\":{\"gridcolor\":\"white\",\"linecolor\":\"white\",\"ticks\":\"\",\"title\":{\"standoff\":15},\"zerolinecolor\":\"white\",\"automargin\":true,\"zerolinewidth\":2},\"scene\":{\"xaxis\":{\"backgroundcolor\":\"#E5ECF6\",\"gridcolor\":\"white\",\"linecolor\":\"white\",\"showbackground\":true,\"ticks\":\"\",\"zerolinecolor\":\"white\",\"gridwidth\":2},\"yaxis\":{\"backgroundcolor\":\"#E5ECF6\",\"gridcolor\":\"white\",\"linecolor\":\"white\",\"showbackground\":true,\"ticks\":\"\",\"zerolinecolor\":\"white\",\"gridwidth\":2},\"zaxis\":{\"backgroundcolor\":\"#E5ECF6\",\"gridcolor\":\"white\",\"linecolor\":\"white\",\"showbackground\":true,\"ticks\":\"\",\"zerolinecolor\":\"white\",\"gridwidth\":2}},\"shapedefaults\":{\"line\":{\"color\":\"#2a3f5f\"}},\"annotationdefaults\":{\"arrowcolor\":\"#2a3f5f\",\"arrowhead\":0,\"arrowwidth\":1},\"geo\":{\"bgcolor\":\"white\",\"landcolor\":\"#E5ECF6\",\"subunitcolor\":\"white\",\"showland\":true,\"showlakes\":true,\"lakecolor\":\"white\"},\"title\":{\"x\":0.05},\"mapbox\":{\"style\":\"light\"}}},\"margin\":{\"l\":0,\"r\":0,\"b\":0,\"t\":0},\"title\":{\"text\":\"Crystal Structure\"},\"scene\":{\"xaxis\":{\"title\":{\"text\":\"X\"}},\"yaxis\":{\"title\":{\"text\":\"Y\"}},\"zaxis\":{\"title\":{\"text\":\"Z\"}}}},                        {\"responsive\": true}                    ).then(function(){\n",
       "                            \n",
       "var gd = document.getElementById('d5f6bc22-6972-4f00-8cd5-01f2d2bb2255');\n",
       "var x = new MutationObserver(function (mutations, observer) {{\n",
       "        var display = window.getComputedStyle(gd).display;\n",
       "        if (!display || display === 'none') {{\n",
       "            console.log([gd, 'removed!']);\n",
       "            Plotly.purge(gd);\n",
       "            observer.disconnect();\n",
       "        }}\n",
       "}});\n",
       "\n",
       "// Listen for the removal of the full notebook cells\n",
       "var notebookContainer = gd.closest('#notebook-container');\n",
       "if (notebookContainer) {{\n",
       "    x.observe(notebookContainer, {childList: true});\n",
       "}}\n",
       "\n",
       "// Listen for the clearing of the current output cell\n",
       "var outputEl = gd.closest('.output');\n",
       "if (outputEl) {{\n",
       "    x.observe(outputEl, {childList: true});\n",
       "}}\n",
       "\n",
       "                        })                };                });            </script>        </div>"
      ]
     },
     "metadata": {},
     "output_type": "display_data"
    }
   ],
   "source": [
    "%load_ext autoreload\n",
    "%autoreload 2\n",
    "from visualize_crystal import plot_crystal\n",
    "plot_crystal(atomic_nums, coords)"
   ]
  }
 ],
 "metadata": {
  "kernelspec": {
   "display_name": "Python 3 (ipykernel)",
   "language": "python",
   "name": "python3"
  },
  "language_info": {
   "codemirror_mode": {
    "name": "ipython",
    "version": 3
   },
   "file_extension": ".py",
   "mimetype": "text/x-python",
   "name": "python",
   "nbconvert_exporter": "python",
   "pygments_lexer": "ipython3",
   "version": "3.11.9"
  }
 },
 "nbformat": 4,
 "nbformat_minor": 5
}
