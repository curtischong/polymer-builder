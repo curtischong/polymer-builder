{
 "cells": [
  {
   "cell_type": "code",
   "execution_count": 45,
   "id": "920c1547-d3ac-420e-93ae-ff045cbfd417",
   "metadata": {},
   "outputs": [],
   "source": [
    "import math\n",
    "import numpy as np"
   ]
  },
  {
   "cell_type": "code",
   "execution_count": 52,
   "id": "129b0e85-5865-4370-aafd-4d4cf74eeb4e",
   "metadata": {},
   "outputs": [
    {
     "name": "stdout",
     "output_type": "stream",
     "text": [
      "The autoreload extension is already loaded. To reload it, use:\n",
      "  %reload_ext autoreload\n"
     ]
    }
   ],
   "source": [
    "import py3Dmol\n",
    "\n",
    "# ensure files are auto reloaded: https://stackoverflow.com/questions/4111640/how-to-reimport-module-to-python-then-code-be-changed-after-import\n",
    "%load_ext autoreload\n",
    "%autoreload 2\n",
    "\n",
    "from get_molecules import get_molecules\n",
    "\n",
    "smiles=\"NCC(=O)NCCCCCC(=O)\"\n",
    "atomic_nums, coords = get_molecules(smiles)"
   ]
  },
  {
   "cell_type": "code",
   "execution_count": 54,
   "id": "f422d995-b619-47f7-b46e-4b7eb004eb16",
   "metadata": {},
   "outputs": [
    {
     "data": {
      "text/plain": [
       "[7,\n",
       " 6,\n",
       " 6,\n",
       " 8,\n",
       " 7,\n",
       " 6,\n",
       " 6,\n",
       " 6,\n",
       " 6,\n",
       " 6,\n",
       " 6,\n",
       " 8,\n",
       " 1,\n",
       " 1,\n",
       " 1,\n",
       " 1,\n",
       " 1,\n",
       " 1,\n",
       " 1,\n",
       " 1,\n",
       " 1,\n",
       " 1,\n",
       " 1,\n",
       " 1,\n",
       " 1,\n",
       " 1,\n",
       " 1,\n",
       " 1]"
      ]
     },
     "execution_count": 54,
     "metadata": {},
     "output_type": "execute_result"
    }
   ],
   "source": [
    "atomic_nums"
   ]
  },
  {
   "cell_type": "code",
   "execution_count": 41,
   "id": "d9d8b68b-16e5-47ef-a52d-a2d4ad899121",
   "metadata": {},
   "outputs": [],
   "source": [
    "from visualize_crystal import plot_crystal\n",
    "def mol_to_crystal(mol: Chem.Mol):\n",
    "    pass"
   ]
  }
 ],
 "metadata": {
  "kernelspec": {
   "display_name": "Python 3 (ipykernel)",
   "language": "python",
   "name": "python3"
  },
  "language_info": {
   "codemirror_mode": {
    "name": "ipython",
    "version": 3
   },
   "file_extension": ".py",
   "mimetype": "text/x-python",
   "name": "python",
   "nbconvert_exporter": "python",
   "pygments_lexer": "ipython3",
   "version": "3.11.9"
  }
 },
 "nbformat": 4,
 "nbformat_minor": 5
}
