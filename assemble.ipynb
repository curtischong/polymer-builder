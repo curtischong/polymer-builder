{
 "cells": [
  {
   "cell_type": "code",
   "execution_count": 1,
   "id": "920c1547-d3ac-420e-93ae-ff045cbfd417",
   "metadata": {},
   "outputs": [],
   "source": [
    "import math\n",
    "import numpy as np"
   ]
  },
  {
   "cell_type": "code",
   "execution_count": 6,
   "id": "129b0e85-5865-4370-aafd-4d4cf74eeb4e",
   "metadata": {},
   "outputs": [],
   "source": [
    "import py3Dmol\n",
    "import importlib\n",
    "import get_molecules\n",
    "importlib.reload(get_molecules)\n",
    "%matplotlib inline\n",
    "import visualize_crystal"
   ]
  },
  {
   "cell_type": "code",
   "execution_count": 32,
   "id": "eb33756f-de94-4c60-a087-ab2b35eb1c13",
   "metadata": {},
   "outputs": [
    {
     "data": {
      "application/vnd.plotly.v1+json": {
       "config": {
        "plotlyServerURL": "https://plot.ly"
       },
       "data": [
        {
         "marker": {
          "color": "#8F00FF",
          "size": 5
         },
         "mode": "markers",
         "name": "0",
         "text": "N",
         "type": "scatter3d",
         "x": [
          0
         ],
         "y": [
          0
         ],
         "z": [
          0
         ]
        },
        {
         "marker": {
          "color": "#000000",
          "size": 5
         },
         "mode": "markers",
         "name": "1",
         "text": "C",
         "type": "scatter3d",
         "x": [
          -1.2474276751246516
         ],
         "y": [
          -0.6095431330307521
         ],
         "z": [
          0.41987754344950734
         ]
        },
        {
         "marker": {
          "color": "#000000",
          "size": 5
         },
         "mode": "markers",
         "name": "2",
         "text": "C",
         "type": "scatter3d",
         "x": [
          -1.5489816344411234
         ],
         "y": [
          -0.3188564976610563
         ],
         "z": [
          1.844100124626499
         ]
        },
        {
         "marker": {
          "color": "#FF0000",
          "size": 5
         },
         "mode": "markers",
         "name": "3",
         "text": "O",
         "type": "scatter3d",
         "x": [
          -2.58955835705855
         ],
         "y": [
          -0.7627135506148732
         ],
         "z": [
          2.3897573461342696
         ]
        },
        {
         "marker": {
          "color": "#8F00FF",
          "size": 5
         },
         "mode": "markers",
         "name": "4",
         "text": "N",
         "type": "scatter3d",
         "x": [
          -0.686758125090594
         ],
         "y": [
          0.470179941742201
         ],
         "z": [
          2.663875033037532
         ]
        },
        {
         "marker": {
          "color": "#000000",
          "size": 5
         },
         "mode": "markers",
         "name": "5",
         "text": "C",
         "type": "scatter3d",
         "x": [
          -0.9517195523073335
         ],
         "y": [
          0.77042001512858
         ],
         "z": [
          4.054149186741968
         ]
        },
        {
         "marker": {
          "color": "#000000",
          "size": 5
         },
         "mode": "markers",
         "name": "6",
         "text": "C",
         "type": "scatter3d",
         "x": [
          -1.0463887904503149
         ],
         "y": [
          -0.44543052151446894
         ],
         "z": [
          4.907730598199167
         ]
        },
        {
         "marker": {
          "color": "#000000",
          "size": 5
         },
         "mode": "markers",
         "name": "7",
         "text": "C",
         "type": "scatter3d",
         "x": [
          -1.3386890284988628
         ],
         "y": [
          -0.05516173382964194
         ],
         "z": [
          6.332365973693613
         ]
        },
        {
         "marker": {
          "color": "#000000",
          "size": 5
         },
         "mode": "markers",
         "name": "8",
         "text": "C",
         "type": "scatter3d",
         "x": [
          -0.2815333409692002
         ],
         "y": [
          0.8153815972459152
         ],
         "z": [
          6.9217304527107615
         ]
        },
        {
         "marker": {
          "color": "#000000",
          "size": 5
         },
         "mode": "markers",
         "name": "9",
         "text": "C",
         "type": "scatter3d",
         "x": [
          -0.6378853237477718
         ],
         "y": [
          1.1559446771882127
         ],
         "z": [
          8.37279183543632
         ]
        },
        {
         "marker": {
          "color": "#000000",
          "size": 5
         },
         "mode": "markers",
         "name": "10",
         "text": "C",
         "type": "scatter3d",
         "x": [
          -0.7415711302096978
         ],
         "y": [
          -0.08340862853272481
         ],
         "z": [
          9.167903203377536
         ]
        },
        {
         "marker": {
          "color": "#FF0000",
          "size": 5
         },
         "mode": "markers",
         "name": "11",
         "text": "O",
         "type": "scatter3d",
         "x": [
          -1.022027790902381
         ],
         "y": [
          0.022310458382331762
         ],
         "z": [
          10.351074533664455
         ]
        },
        {
         "marker": {
          "color": "#F0F8FF",
          "size": 5
         },
         "mode": "markers",
         "name": "12",
         "text": "H",
         "type": "scatter3d",
         "x": [
          -0.09287425866638842
         ],
         "y": [
          1.02675962161895
         ],
         "z": [
          0.1760919167572422
         ]
        },
        {
         "marker": {
          "color": "#F0F8FF",
          "size": 5
         },
         "mode": "markers",
         "name": "13",
         "text": "H",
         "type": "scatter3d",
         "x": [
          0.7945492034504452
         ],
         "y": [
          -0.318955421714879
         ],
         "z": [
          0.6321431717196189
         ]
        },
        {
         "marker": {
          "color": "#F0F8FF",
          "size": 5
         },
         "mode": "markers",
         "name": "14",
         "text": "H",
         "type": "scatter3d",
         "x": [
          -1.2093939253734463
         ],
         "y": [
          -1.7115866217534
         ],
         "z": [
          0.21403444099973212
         ]
        },
        {
         "marker": {
          "color": "#F0F8FF",
          "size": 5
         },
         "mode": "markers",
         "name": "15",
         "text": "H",
         "type": "scatter3d",
         "x": [
          -2.0462182618723284
         ],
         "y": [
          -0.17350032011759264
         ],
         "z": [
          -0.22307268080651585
         ]
        },
        {
         "marker": {
          "color": "#F0F8FF",
          "size": 5
         },
         "mode": "markers",
         "name": "16",
         "text": "H",
         "type": "scatter3d",
         "x": [
          0.17809889233542348
         ],
         "y": [
          0.8417566417137327
         ],
         "z": [
          2.2157383929533165
         ]
        },
        {
         "marker": {
          "color": "#F0F8FF",
          "size": 5
         },
         "mode": "markers",
         "name": "17",
         "text": "H",
         "type": "scatter3d",
         "x": [
          -1.8751059606856528
         ],
         "y": [
          1.3677106415427192
         ],
         "z": [
          4.197135008835574
         ]
        },
        {
         "marker": {
          "color": "#F0F8FF",
          "size": 5
         },
         "mode": "markers",
         "name": "18",
         "text": "H",
         "type": "scatter3d",
         "x": [
          -0.11358115369376921
         ],
         "y": [
          1.3962762179601522
         ],
         "z": [
          4.418918879438498
         ]
        },
        {
         "marker": {
          "color": "#F0F8FF",
          "size": 5
         },
         "mode": "markers",
         "name": "19",
         "text": "H",
         "type": "scatter3d",
         "x": [
          -1.7743951967582454
         ],
         "y": [
          -1.1972779004385614
         ],
         "z": [
          4.523798477075045
         ]
        },
        {
         "marker": {
          "color": "#F0F8FF",
          "size": 5
         },
         "mode": "markers",
         "name": "20",
         "text": "H",
         "type": "scatter3d",
         "x": [
          -0.05398498989687831
         ],
         "y": [
          -0.9804236108990574
         ],
         "z": [
          4.8440843019818995
         ]
        },
        {
         "marker": {
          "color": "#F0F8FF",
          "size": 5
         },
         "mode": "markers",
         "name": "21",
         "text": "H",
         "type": "scatter3d",
         "x": [
          -1.5145583594361929
         ],
         "y": [
          -0.9838251422429545
         ],
         "z": [
          6.948678640516441
         ]
        },
        {
         "marker": {
          "color": "#F0F8FF",
          "size": 5
         },
         "mode": "markers",
         "name": "22",
         "text": "H",
         "type": "scatter3d",
         "x": [
          -2.3199334207977236
         ],
         "y": [
          0.49084666855082304
         ],
         "z": [
          6.387429057199994
         ]
        },
        {
         "marker": {
          "color": "#F0F8FF",
          "size": 5
         },
         "mode": "markers",
         "name": "23",
         "text": "H",
         "type": "scatter3d",
         "x": [
          0.7300120727285544
         ],
         "y": [
          0.3620737065677433
         ],
         "z": [
          6.905949111034935
         ]
        },
        {
         "marker": {
          "color": "#F0F8FF",
          "size": 5
         },
         "mode": "markers",
         "name": "24",
         "text": "H",
         "type": "scatter3d",
         "x": [
          -0.20470500536354994
         ],
         "y": [
          1.7761074504847874
         ],
         "z": [
          6.362926139509222
         ]
        },
        {
         "marker": {
          "color": "#F0F8FF",
          "size": 5
         },
         "mode": "markers",
         "name": "25",
         "text": "H",
         "type": "scatter3d",
         "x": [
          -1.5721191816083868
         ],
         "y": [
          1.74438957157043
         ],
         "z": [
          8.344649970954565
         ]
        },
        {
         "marker": {
          "color": "#F0F8FF",
          "size": 5
         },
         "mode": "markers",
         "name": "26",
         "text": "H",
         "type": "scatter3d",
         "x": [
          0.14190109474249046
         ],
         "y": [
          1.7848998183347409
         ],
         "z": [
          8.826942777113675
         ]
        },
        {
         "marker": {
          "color": "#F0F8FF",
          "size": 5
         },
         "mode": "markers",
         "name": "27",
         "text": "H",
         "type": "scatter3d",
         "x": [
          -0.5854033808562347
         ],
         "y": [
          -1.07837322687219
         ],
         "z": [
          8.771009773054475
         ]
        }
       ],
       "layout": {
        "autosize": true,
        "margin": {
         "b": 0,
         "l": 0,
         "r": 0,
         "t": 0
        },
        "scene": {
         "aspectmode": "auto",
         "aspectratio": {
          "x": 0.676607859969471,
          "y": 0.6990765409609158,
          "z": 2.1141618550414067
         },
         "camera": {
          "center": {
           "x": 0,
           "y": 0,
           "z": 0
          },
          "eye": {
           "x": 1.260380984718027,
           "y": 1.2603809847180267,
           "z": 1.260380984718027
          },
          "projection": {
           "type": "perspective"
          },
          "up": {
           "x": 0,
           "y": 0,
           "z": 1
          }
         },
         "xaxis": {
          "title": {
           "text": "X"
          },
          "type": "linear"
         },
         "yaxis": {
          "title": {
           "text": "Y"
          },
          "type": "linear"
         },
         "zaxis": {
          "title": {
           "text": "Z"
          },
          "type": "linear"
         }
        },
        "template": {
         "data": {
          "bar": [
           {
            "error_x": {
             "color": "#2a3f5f"
            },
            "error_y": {
             "color": "#2a3f5f"
            },
            "marker": {
             "line": {
              "color": "#E5ECF6",
              "width": 0.5
             },
             "pattern": {
              "fillmode": "overlay",
              "size": 10,
              "solidity": 0.2
             }
            },
            "type": "bar"
           }
          ],
          "barpolar": [
           {
            "marker": {
             "line": {
              "color": "#E5ECF6",
              "width": 0.5
             },
             "pattern": {
              "fillmode": "overlay",
              "size": 10,
              "solidity": 0.2
             }
            },
            "type": "barpolar"
           }
          ],
          "carpet": [
           {
            "aaxis": {
             "endlinecolor": "#2a3f5f",
             "gridcolor": "white",
             "linecolor": "white",
             "minorgridcolor": "white",
             "startlinecolor": "#2a3f5f"
            },
            "baxis": {
             "endlinecolor": "#2a3f5f",
             "gridcolor": "white",
             "linecolor": "white",
             "minorgridcolor": "white",
             "startlinecolor": "#2a3f5f"
            },
            "type": "carpet"
           }
          ],
          "choropleth": [
           {
            "colorbar": {
             "outlinewidth": 0,
             "ticks": ""
            },
            "type": "choropleth"
           }
          ],
          "contour": [
           {
            "colorbar": {
             "outlinewidth": 0,
             "ticks": ""
            },
            "colorscale": [
             [
              0,
              "#0d0887"
             ],
             [
              0.1111111111111111,
              "#46039f"
             ],
             [
              0.2222222222222222,
              "#7201a8"
             ],
             [
              0.3333333333333333,
              "#9c179e"
             ],
             [
              0.4444444444444444,
              "#bd3786"
             ],
             [
              0.5555555555555556,
              "#d8576b"
             ],
             [
              0.6666666666666666,
              "#ed7953"
             ],
             [
              0.7777777777777778,
              "#fb9f3a"
             ],
             [
              0.8888888888888888,
              "#fdca26"
             ],
             [
              1,
              "#f0f921"
             ]
            ],
            "type": "contour"
           }
          ],
          "contourcarpet": [
           {
            "colorbar": {
             "outlinewidth": 0,
             "ticks": ""
            },
            "type": "contourcarpet"
           }
          ],
          "heatmap": [
           {
            "colorbar": {
             "outlinewidth": 0,
             "ticks": ""
            },
            "colorscale": [
             [
              0,
              "#0d0887"
             ],
             [
              0.1111111111111111,
              "#46039f"
             ],
             [
              0.2222222222222222,
              "#7201a8"
             ],
             [
              0.3333333333333333,
              "#9c179e"
             ],
             [
              0.4444444444444444,
              "#bd3786"
             ],
             [
              0.5555555555555556,
              "#d8576b"
             ],
             [
              0.6666666666666666,
              "#ed7953"
             ],
             [
              0.7777777777777778,
              "#fb9f3a"
             ],
             [
              0.8888888888888888,
              "#fdca26"
             ],
             [
              1,
              "#f0f921"
             ]
            ],
            "type": "heatmap"
           }
          ],
          "heatmapgl": [
           {
            "colorbar": {
             "outlinewidth": 0,
             "ticks": ""
            },
            "colorscale": [
             [
              0,
              "#0d0887"
             ],
             [
              0.1111111111111111,
              "#46039f"
             ],
             [
              0.2222222222222222,
              "#7201a8"
             ],
             [
              0.3333333333333333,
              "#9c179e"
             ],
             [
              0.4444444444444444,
              "#bd3786"
             ],
             [
              0.5555555555555556,
              "#d8576b"
             ],
             [
              0.6666666666666666,
              "#ed7953"
             ],
             [
              0.7777777777777778,
              "#fb9f3a"
             ],
             [
              0.8888888888888888,
              "#fdca26"
             ],
             [
              1,
              "#f0f921"
             ]
            ],
            "type": "heatmapgl"
           }
          ],
          "histogram": [
           {
            "marker": {
             "pattern": {
              "fillmode": "overlay",
              "size": 10,
              "solidity": 0.2
             }
            },
            "type": "histogram"
           }
          ],
          "histogram2d": [
           {
            "colorbar": {
             "outlinewidth": 0,
             "ticks": ""
            },
            "colorscale": [
             [
              0,
              "#0d0887"
             ],
             [
              0.1111111111111111,
              "#46039f"
             ],
             [
              0.2222222222222222,
              "#7201a8"
             ],
             [
              0.3333333333333333,
              "#9c179e"
             ],
             [
              0.4444444444444444,
              "#bd3786"
             ],
             [
              0.5555555555555556,
              "#d8576b"
             ],
             [
              0.6666666666666666,
              "#ed7953"
             ],
             [
              0.7777777777777778,
              "#fb9f3a"
             ],
             [
              0.8888888888888888,
              "#fdca26"
             ],
             [
              1,
              "#f0f921"
             ]
            ],
            "type": "histogram2d"
           }
          ],
          "histogram2dcontour": [
           {
            "colorbar": {
             "outlinewidth": 0,
             "ticks": ""
            },
            "colorscale": [
             [
              0,
              "#0d0887"
             ],
             [
              0.1111111111111111,
              "#46039f"
             ],
             [
              0.2222222222222222,
              "#7201a8"
             ],
             [
              0.3333333333333333,
              "#9c179e"
             ],
             [
              0.4444444444444444,
              "#bd3786"
             ],
             [
              0.5555555555555556,
              "#d8576b"
             ],
             [
              0.6666666666666666,
              "#ed7953"
             ],
             [
              0.7777777777777778,
              "#fb9f3a"
             ],
             [
              0.8888888888888888,
              "#fdca26"
             ],
             [
              1,
              "#f0f921"
             ]
            ],
            "type": "histogram2dcontour"
           }
          ],
          "mesh3d": [
           {
            "colorbar": {
             "outlinewidth": 0,
             "ticks": ""
            },
            "type": "mesh3d"
           }
          ],
          "parcoords": [
           {
            "line": {
             "colorbar": {
              "outlinewidth": 0,
              "ticks": ""
             }
            },
            "type": "parcoords"
           }
          ],
          "pie": [
           {
            "automargin": true,
            "type": "pie"
           }
          ],
          "scatter": [
           {
            "fillpattern": {
             "fillmode": "overlay",
             "size": 10,
             "solidity": 0.2
            },
            "type": "scatter"
           }
          ],
          "scatter3d": [
           {
            "line": {
             "colorbar": {
              "outlinewidth": 0,
              "ticks": ""
             }
            },
            "marker": {
             "colorbar": {
              "outlinewidth": 0,
              "ticks": ""
             }
            },
            "type": "scatter3d"
           }
          ],
          "scattercarpet": [
           {
            "marker": {
             "colorbar": {
              "outlinewidth": 0,
              "ticks": ""
             }
            },
            "type": "scattercarpet"
           }
          ],
          "scattergeo": [
           {
            "marker": {
             "colorbar": {
              "outlinewidth": 0,
              "ticks": ""
             }
            },
            "type": "scattergeo"
           }
          ],
          "scattergl": [
           {
            "marker": {
             "colorbar": {
              "outlinewidth": 0,
              "ticks": ""
             }
            },
            "type": "scattergl"
           }
          ],
          "scattermapbox": [
           {
            "marker": {
             "colorbar": {
              "outlinewidth": 0,
              "ticks": ""
             }
            },
            "type": "scattermapbox"
           }
          ],
          "scatterpolar": [
           {
            "marker": {
             "colorbar": {
              "outlinewidth": 0,
              "ticks": ""
             }
            },
            "type": "scatterpolar"
           }
          ],
          "scatterpolargl": [
           {
            "marker": {
             "colorbar": {
              "outlinewidth": 0,
              "ticks": ""
             }
            },
            "type": "scatterpolargl"
           }
          ],
          "scatterternary": [
           {
            "marker": {
             "colorbar": {
              "outlinewidth": 0,
              "ticks": ""
             }
            },
            "type": "scatterternary"
           }
          ],
          "surface": [
           {
            "colorbar": {
             "outlinewidth": 0,
             "ticks": ""
            },
            "colorscale": [
             [
              0,
              "#0d0887"
             ],
             [
              0.1111111111111111,
              "#46039f"
             ],
             [
              0.2222222222222222,
              "#7201a8"
             ],
             [
              0.3333333333333333,
              "#9c179e"
             ],
             [
              0.4444444444444444,
              "#bd3786"
             ],
             [
              0.5555555555555556,
              "#d8576b"
             ],
             [
              0.6666666666666666,
              "#ed7953"
             ],
             [
              0.7777777777777778,
              "#fb9f3a"
             ],
             [
              0.8888888888888888,
              "#fdca26"
             ],
             [
              1,
              "#f0f921"
             ]
            ],
            "type": "surface"
           }
          ],
          "table": [
           {
            "cells": {
             "fill": {
              "color": "#EBF0F8"
             },
             "line": {
              "color": "white"
             }
            },
            "header": {
             "fill": {
              "color": "#C8D4E3"
             },
             "line": {
              "color": "white"
             }
            },
            "type": "table"
           }
          ]
         },
         "layout": {
          "annotationdefaults": {
           "arrowcolor": "#2a3f5f",
           "arrowhead": 0,
           "arrowwidth": 1
          },
          "autotypenumbers": "strict",
          "coloraxis": {
           "colorbar": {
            "outlinewidth": 0,
            "ticks": ""
           }
          },
          "colorscale": {
           "diverging": [
            [
             0,
             "#8e0152"
            ],
            [
             0.1,
             "#c51b7d"
            ],
            [
             0.2,
             "#de77ae"
            ],
            [
             0.3,
             "#f1b6da"
            ],
            [
             0.4,
             "#fde0ef"
            ],
            [
             0.5,
             "#f7f7f7"
            ],
            [
             0.6,
             "#e6f5d0"
            ],
            [
             0.7,
             "#b8e186"
            ],
            [
             0.8,
             "#7fbc41"
            ],
            [
             0.9,
             "#4d9221"
            ],
            [
             1,
             "#276419"
            ]
           ],
           "sequential": [
            [
             0,
             "#0d0887"
            ],
            [
             0.1111111111111111,
             "#46039f"
            ],
            [
             0.2222222222222222,
             "#7201a8"
            ],
            [
             0.3333333333333333,
             "#9c179e"
            ],
            [
             0.4444444444444444,
             "#bd3786"
            ],
            [
             0.5555555555555556,
             "#d8576b"
            ],
            [
             0.6666666666666666,
             "#ed7953"
            ],
            [
             0.7777777777777778,
             "#fb9f3a"
            ],
            [
             0.8888888888888888,
             "#fdca26"
            ],
            [
             1,
             "#f0f921"
            ]
           ],
           "sequentialminus": [
            [
             0,
             "#0d0887"
            ],
            [
             0.1111111111111111,
             "#46039f"
            ],
            [
             0.2222222222222222,
             "#7201a8"
            ],
            [
             0.3333333333333333,
             "#9c179e"
            ],
            [
             0.4444444444444444,
             "#bd3786"
            ],
            [
             0.5555555555555556,
             "#d8576b"
            ],
            [
             0.6666666666666666,
             "#ed7953"
            ],
            [
             0.7777777777777778,
             "#fb9f3a"
            ],
            [
             0.8888888888888888,
             "#fdca26"
            ],
            [
             1,
             "#f0f921"
            ]
           ]
          },
          "colorway": [
           "#636efa",
           "#EF553B",
           "#00cc96",
           "#ab63fa",
           "#FFA15A",
           "#19d3f3",
           "#FF6692",
           "#B6E880",
           "#FF97FF",
           "#FECB52"
          ],
          "font": {
           "color": "#2a3f5f"
          },
          "geo": {
           "bgcolor": "white",
           "lakecolor": "white",
           "landcolor": "#E5ECF6",
           "showlakes": true,
           "showland": true,
           "subunitcolor": "white"
          },
          "hoverlabel": {
           "align": "left"
          },
          "hovermode": "closest",
          "mapbox": {
           "style": "light"
          },
          "paper_bgcolor": "white",
          "plot_bgcolor": "#E5ECF6",
          "polar": {
           "angularaxis": {
            "gridcolor": "white",
            "linecolor": "white",
            "ticks": ""
           },
           "bgcolor": "#E5ECF6",
           "radialaxis": {
            "gridcolor": "white",
            "linecolor": "white",
            "ticks": ""
           }
          },
          "scene": {
           "xaxis": {
            "backgroundcolor": "#E5ECF6",
            "gridcolor": "white",
            "gridwidth": 2,
            "linecolor": "white",
            "showbackground": true,
            "ticks": "",
            "zerolinecolor": "white"
           },
           "yaxis": {
            "backgroundcolor": "#E5ECF6",
            "gridcolor": "white",
            "gridwidth": 2,
            "linecolor": "white",
            "showbackground": true,
            "ticks": "",
            "zerolinecolor": "white"
           },
           "zaxis": {
            "backgroundcolor": "#E5ECF6",
            "gridcolor": "white",
            "gridwidth": 2,
            "linecolor": "white",
            "showbackground": true,
            "ticks": "",
            "zerolinecolor": "white"
           }
          },
          "shapedefaults": {
           "line": {
            "color": "#2a3f5f"
           }
          },
          "ternary": {
           "aaxis": {
            "gridcolor": "white",
            "linecolor": "white",
            "ticks": ""
           },
           "baxis": {
            "gridcolor": "white",
            "linecolor": "white",
            "ticks": ""
           },
           "bgcolor": "#E5ECF6",
           "caxis": {
            "gridcolor": "white",
            "linecolor": "white",
            "ticks": ""
           }
          },
          "title": {
           "x": 0.05
          },
          "xaxis": {
           "automargin": true,
           "gridcolor": "white",
           "linecolor": "white",
           "ticks": "",
           "title": {
            "standoff": 15
           },
           "zerolinecolor": "white",
           "zerolinewidth": 2
          },
          "yaxis": {
           "automargin": true,
           "gridcolor": "white",
           "linecolor": "white",
           "ticks": "",
           "title": {
            "standoff": 15
           },
           "zerolinecolor": "white",
           "zerolinewidth": 2
          }
         }
        },
        "title": {
         "text": "Crystal Structure"
        }
       }
      },
      "text/html": [
       "<div>                            <div id=\"c5bd3fe2-dc93-489c-b79a-7af4ecb079a7\" class=\"plotly-graph-div\" style=\"height:525px; width:100%;\"></div>            <script type=\"text/javascript\">                require([\"plotly\"], function(Plotly) {                    window.PLOTLYENV=window.PLOTLYENV || {};                                    if (document.getElementById(\"c5bd3fe2-dc93-489c-b79a-7af4ecb079a7\")) {                    Plotly.newPlot(                        \"c5bd3fe2-dc93-489c-b79a-7af4ecb079a7\",                        [{\"marker\":{\"color\":\"#8F00FF\",\"size\":5},\"mode\":\"markers\",\"name\":\"0\",\"text\":\"N\",\"x\":[0.0],\"y\":[0.0],\"z\":[0.0],\"type\":\"scatter3d\"},{\"marker\":{\"color\":\"#000000\",\"size\":5},\"mode\":\"markers\",\"name\":\"1\",\"text\":\"C\",\"x\":[-1.2474276751246516],\"y\":[-0.6095431330307521],\"z\":[0.41987754344950734],\"type\":\"scatter3d\"},{\"marker\":{\"color\":\"#000000\",\"size\":5},\"mode\":\"markers\",\"name\":\"2\",\"text\":\"C\",\"x\":[-1.5489816344411234],\"y\":[-0.3188564976610563],\"z\":[1.844100124626499],\"type\":\"scatter3d\"},{\"marker\":{\"color\":\"#FF0000\",\"size\":5},\"mode\":\"markers\",\"name\":\"3\",\"text\":\"O\",\"x\":[-2.58955835705855],\"y\":[-0.7627135506148732],\"z\":[2.3897573461342696],\"type\":\"scatter3d\"},{\"marker\":{\"color\":\"#8F00FF\",\"size\":5},\"mode\":\"markers\",\"name\":\"4\",\"text\":\"N\",\"x\":[-0.686758125090594],\"y\":[0.470179941742201],\"z\":[2.663875033037532],\"type\":\"scatter3d\"},{\"marker\":{\"color\":\"#000000\",\"size\":5},\"mode\":\"markers\",\"name\":\"5\",\"text\":\"C\",\"x\":[-0.9517195523073335],\"y\":[0.77042001512858],\"z\":[4.054149186741968],\"type\":\"scatter3d\"},{\"marker\":{\"color\":\"#000000\",\"size\":5},\"mode\":\"markers\",\"name\":\"6\",\"text\":\"C\",\"x\":[-1.0463887904503149],\"y\":[-0.44543052151446894],\"z\":[4.907730598199167],\"type\":\"scatter3d\"},{\"marker\":{\"color\":\"#000000\",\"size\":5},\"mode\":\"markers\",\"name\":\"7\",\"text\":\"C\",\"x\":[-1.3386890284988628],\"y\":[-0.05516173382964194],\"z\":[6.332365973693613],\"type\":\"scatter3d\"},{\"marker\":{\"color\":\"#000000\",\"size\":5},\"mode\":\"markers\",\"name\":\"8\",\"text\":\"C\",\"x\":[-0.2815333409692002],\"y\":[0.8153815972459152],\"z\":[6.9217304527107615],\"type\":\"scatter3d\"},{\"marker\":{\"color\":\"#000000\",\"size\":5},\"mode\":\"markers\",\"name\":\"9\",\"text\":\"C\",\"x\":[-0.6378853237477718],\"y\":[1.1559446771882127],\"z\":[8.37279183543632],\"type\":\"scatter3d\"},{\"marker\":{\"color\":\"#000000\",\"size\":5},\"mode\":\"markers\",\"name\":\"10\",\"text\":\"C\",\"x\":[-0.7415711302096978],\"y\":[-0.08340862853272481],\"z\":[9.167903203377536],\"type\":\"scatter3d\"},{\"marker\":{\"color\":\"#FF0000\",\"size\":5},\"mode\":\"markers\",\"name\":\"11\",\"text\":\"O\",\"x\":[-1.022027790902381],\"y\":[0.022310458382331762],\"z\":[10.351074533664455],\"type\":\"scatter3d\"},{\"marker\":{\"color\":\"#F0F8FF\",\"size\":5},\"mode\":\"markers\",\"name\":\"12\",\"text\":\"H\",\"x\":[-0.09287425866638842],\"y\":[1.02675962161895],\"z\":[0.1760919167572422],\"type\":\"scatter3d\"},{\"marker\":{\"color\":\"#F0F8FF\",\"size\":5},\"mode\":\"markers\",\"name\":\"13\",\"text\":\"H\",\"x\":[0.7945492034504452],\"y\":[-0.318955421714879],\"z\":[0.6321431717196189],\"type\":\"scatter3d\"},{\"marker\":{\"color\":\"#F0F8FF\",\"size\":5},\"mode\":\"markers\",\"name\":\"14\",\"text\":\"H\",\"x\":[-1.2093939253734463],\"y\":[-1.7115866217534],\"z\":[0.21403444099973212],\"type\":\"scatter3d\"},{\"marker\":{\"color\":\"#F0F8FF\",\"size\":5},\"mode\":\"markers\",\"name\":\"15\",\"text\":\"H\",\"x\":[-2.0462182618723284],\"y\":[-0.17350032011759264],\"z\":[-0.22307268080651585],\"type\":\"scatter3d\"},{\"marker\":{\"color\":\"#F0F8FF\",\"size\":5},\"mode\":\"markers\",\"name\":\"16\",\"text\":\"H\",\"x\":[0.17809889233542348],\"y\":[0.8417566417137327],\"z\":[2.2157383929533165],\"type\":\"scatter3d\"},{\"marker\":{\"color\":\"#F0F8FF\",\"size\":5},\"mode\":\"markers\",\"name\":\"17\",\"text\":\"H\",\"x\":[-1.8751059606856528],\"y\":[1.3677106415427192],\"z\":[4.197135008835574],\"type\":\"scatter3d\"},{\"marker\":{\"color\":\"#F0F8FF\",\"size\":5},\"mode\":\"markers\",\"name\":\"18\",\"text\":\"H\",\"x\":[-0.11358115369376921],\"y\":[1.3962762179601522],\"z\":[4.418918879438498],\"type\":\"scatter3d\"},{\"marker\":{\"color\":\"#F0F8FF\",\"size\":5},\"mode\":\"markers\",\"name\":\"19\",\"text\":\"H\",\"x\":[-1.7743951967582454],\"y\":[-1.1972779004385614],\"z\":[4.523798477075045],\"type\":\"scatter3d\"},{\"marker\":{\"color\":\"#F0F8FF\",\"size\":5},\"mode\":\"markers\",\"name\":\"20\",\"text\":\"H\",\"x\":[-0.05398498989687831],\"y\":[-0.9804236108990574],\"z\":[4.8440843019818995],\"type\":\"scatter3d\"},{\"marker\":{\"color\":\"#F0F8FF\",\"size\":5},\"mode\":\"markers\",\"name\":\"21\",\"text\":\"H\",\"x\":[-1.5145583594361929],\"y\":[-0.9838251422429545],\"z\":[6.948678640516441],\"type\":\"scatter3d\"},{\"marker\":{\"color\":\"#F0F8FF\",\"size\":5},\"mode\":\"markers\",\"name\":\"22\",\"text\":\"H\",\"x\":[-2.3199334207977236],\"y\":[0.49084666855082304],\"z\":[6.387429057199994],\"type\":\"scatter3d\"},{\"marker\":{\"color\":\"#F0F8FF\",\"size\":5},\"mode\":\"markers\",\"name\":\"23\",\"text\":\"H\",\"x\":[0.7300120727285544],\"y\":[0.3620737065677433],\"z\":[6.905949111034935],\"type\":\"scatter3d\"},{\"marker\":{\"color\":\"#F0F8FF\",\"size\":5},\"mode\":\"markers\",\"name\":\"24\",\"text\":\"H\",\"x\":[-0.20470500536354994],\"y\":[1.7761074504847874],\"z\":[6.362926139509222],\"type\":\"scatter3d\"},{\"marker\":{\"color\":\"#F0F8FF\",\"size\":5},\"mode\":\"markers\",\"name\":\"25\",\"text\":\"H\",\"x\":[-1.5721191816083868],\"y\":[1.74438957157043],\"z\":[8.344649970954565],\"type\":\"scatter3d\"},{\"marker\":{\"color\":\"#F0F8FF\",\"size\":5},\"mode\":\"markers\",\"name\":\"26\",\"text\":\"H\",\"x\":[0.14190109474249046],\"y\":[1.7848998183347409],\"z\":[8.826942777113675],\"type\":\"scatter3d\"},{\"marker\":{\"color\":\"#F0F8FF\",\"size\":5},\"mode\":\"markers\",\"name\":\"27\",\"text\":\"H\",\"x\":[-0.5854033808562347],\"y\":[-1.07837322687219],\"z\":[8.771009773054475],\"type\":\"scatter3d\"}],                        {\"template\":{\"data\":{\"histogram2dcontour\":[{\"type\":\"histogram2dcontour\",\"colorbar\":{\"outlinewidth\":0,\"ticks\":\"\"},\"colorscale\":[[0.0,\"#0d0887\"],[0.1111111111111111,\"#46039f\"],[0.2222222222222222,\"#7201a8\"],[0.3333333333333333,\"#9c179e\"],[0.4444444444444444,\"#bd3786\"],[0.5555555555555556,\"#d8576b\"],[0.6666666666666666,\"#ed7953\"],[0.7777777777777778,\"#fb9f3a\"],[0.8888888888888888,\"#fdca26\"],[1.0,\"#f0f921\"]]}],\"choropleth\":[{\"type\":\"choropleth\",\"colorbar\":{\"outlinewidth\":0,\"ticks\":\"\"}}],\"histogram2d\":[{\"type\":\"histogram2d\",\"colorbar\":{\"outlinewidth\":0,\"ticks\":\"\"},\"colorscale\":[[0.0,\"#0d0887\"],[0.1111111111111111,\"#46039f\"],[0.2222222222222222,\"#7201a8\"],[0.3333333333333333,\"#9c179e\"],[0.4444444444444444,\"#bd3786\"],[0.5555555555555556,\"#d8576b\"],[0.6666666666666666,\"#ed7953\"],[0.7777777777777778,\"#fb9f3a\"],[0.8888888888888888,\"#fdca26\"],[1.0,\"#f0f921\"]]}],\"heatmap\":[{\"type\":\"heatmap\",\"colorbar\":{\"outlinewidth\":0,\"ticks\":\"\"},\"colorscale\":[[0.0,\"#0d0887\"],[0.1111111111111111,\"#46039f\"],[0.2222222222222222,\"#7201a8\"],[0.3333333333333333,\"#9c179e\"],[0.4444444444444444,\"#bd3786\"],[0.5555555555555556,\"#d8576b\"],[0.6666666666666666,\"#ed7953\"],[0.7777777777777778,\"#fb9f3a\"],[0.8888888888888888,\"#fdca26\"],[1.0,\"#f0f921\"]]}],\"heatmapgl\":[{\"type\":\"heatmapgl\",\"colorbar\":{\"outlinewidth\":0,\"ticks\":\"\"},\"colorscale\":[[0.0,\"#0d0887\"],[0.1111111111111111,\"#46039f\"],[0.2222222222222222,\"#7201a8\"],[0.3333333333333333,\"#9c179e\"],[0.4444444444444444,\"#bd3786\"],[0.5555555555555556,\"#d8576b\"],[0.6666666666666666,\"#ed7953\"],[0.7777777777777778,\"#fb9f3a\"],[0.8888888888888888,\"#fdca26\"],[1.0,\"#f0f921\"]]}],\"contourcarpet\":[{\"type\":\"contourcarpet\",\"colorbar\":{\"outlinewidth\":0,\"ticks\":\"\"}}],\"contour\":[{\"type\":\"contour\",\"colorbar\":{\"outlinewidth\":0,\"ticks\":\"\"},\"colorscale\":[[0.0,\"#0d0887\"],[0.1111111111111111,\"#46039f\"],[0.2222222222222222,\"#7201a8\"],[0.3333333333333333,\"#9c179e\"],[0.4444444444444444,\"#bd3786\"],[0.5555555555555556,\"#d8576b\"],[0.6666666666666666,\"#ed7953\"],[0.7777777777777778,\"#fb9f3a\"],[0.8888888888888888,\"#fdca26\"],[1.0,\"#f0f921\"]]}],\"surface\":[{\"type\":\"surface\",\"colorbar\":{\"outlinewidth\":0,\"ticks\":\"\"},\"colorscale\":[[0.0,\"#0d0887\"],[0.1111111111111111,\"#46039f\"],[0.2222222222222222,\"#7201a8\"],[0.3333333333333333,\"#9c179e\"],[0.4444444444444444,\"#bd3786\"],[0.5555555555555556,\"#d8576b\"],[0.6666666666666666,\"#ed7953\"],[0.7777777777777778,\"#fb9f3a\"],[0.8888888888888888,\"#fdca26\"],[1.0,\"#f0f921\"]]}],\"mesh3d\":[{\"type\":\"mesh3d\",\"colorbar\":{\"outlinewidth\":0,\"ticks\":\"\"}}],\"scatter\":[{\"fillpattern\":{\"fillmode\":\"overlay\",\"size\":10,\"solidity\":0.2},\"type\":\"scatter\"}],\"parcoords\":[{\"type\":\"parcoords\",\"line\":{\"colorbar\":{\"outlinewidth\":0,\"ticks\":\"\"}}}],\"scatterpolargl\":[{\"type\":\"scatterpolargl\",\"marker\":{\"colorbar\":{\"outlinewidth\":0,\"ticks\":\"\"}}}],\"bar\":[{\"error_x\":{\"color\":\"#2a3f5f\"},\"error_y\":{\"color\":\"#2a3f5f\"},\"marker\":{\"line\":{\"color\":\"#E5ECF6\",\"width\":0.5},\"pattern\":{\"fillmode\":\"overlay\",\"size\":10,\"solidity\":0.2}},\"type\":\"bar\"}],\"scattergeo\":[{\"type\":\"scattergeo\",\"marker\":{\"colorbar\":{\"outlinewidth\":0,\"ticks\":\"\"}}}],\"scatterpolar\":[{\"type\":\"scatterpolar\",\"marker\":{\"colorbar\":{\"outlinewidth\":0,\"ticks\":\"\"}}}],\"histogram\":[{\"marker\":{\"pattern\":{\"fillmode\":\"overlay\",\"size\":10,\"solidity\":0.2}},\"type\":\"histogram\"}],\"scattergl\":[{\"type\":\"scattergl\",\"marker\":{\"colorbar\":{\"outlinewidth\":0,\"ticks\":\"\"}}}],\"scatter3d\":[{\"type\":\"scatter3d\",\"line\":{\"colorbar\":{\"outlinewidth\":0,\"ticks\":\"\"}},\"marker\":{\"colorbar\":{\"outlinewidth\":0,\"ticks\":\"\"}}}],\"scattermapbox\":[{\"type\":\"scattermapbox\",\"marker\":{\"colorbar\":{\"outlinewidth\":0,\"ticks\":\"\"}}}],\"scatterternary\":[{\"type\":\"scatterternary\",\"marker\":{\"colorbar\":{\"outlinewidth\":0,\"ticks\":\"\"}}}],\"scattercarpet\":[{\"type\":\"scattercarpet\",\"marker\":{\"colorbar\":{\"outlinewidth\":0,\"ticks\":\"\"}}}],\"carpet\":[{\"aaxis\":{\"endlinecolor\":\"#2a3f5f\",\"gridcolor\":\"white\",\"linecolor\":\"white\",\"minorgridcolor\":\"white\",\"startlinecolor\":\"#2a3f5f\"},\"baxis\":{\"endlinecolor\":\"#2a3f5f\",\"gridcolor\":\"white\",\"linecolor\":\"white\",\"minorgridcolor\":\"white\",\"startlinecolor\":\"#2a3f5f\"},\"type\":\"carpet\"}],\"table\":[{\"cells\":{\"fill\":{\"color\":\"#EBF0F8\"},\"line\":{\"color\":\"white\"}},\"header\":{\"fill\":{\"color\":\"#C8D4E3\"},\"line\":{\"color\":\"white\"}},\"type\":\"table\"}],\"barpolar\":[{\"marker\":{\"line\":{\"color\":\"#E5ECF6\",\"width\":0.5},\"pattern\":{\"fillmode\":\"overlay\",\"size\":10,\"solidity\":0.2}},\"type\":\"barpolar\"}],\"pie\":[{\"automargin\":true,\"type\":\"pie\"}]},\"layout\":{\"autotypenumbers\":\"strict\",\"colorway\":[\"#636efa\",\"#EF553B\",\"#00cc96\",\"#ab63fa\",\"#FFA15A\",\"#19d3f3\",\"#FF6692\",\"#B6E880\",\"#FF97FF\",\"#FECB52\"],\"font\":{\"color\":\"#2a3f5f\"},\"hovermode\":\"closest\",\"hoverlabel\":{\"align\":\"left\"},\"paper_bgcolor\":\"white\",\"plot_bgcolor\":\"#E5ECF6\",\"polar\":{\"bgcolor\":\"#E5ECF6\",\"angularaxis\":{\"gridcolor\":\"white\",\"linecolor\":\"white\",\"ticks\":\"\"},\"radialaxis\":{\"gridcolor\":\"white\",\"linecolor\":\"white\",\"ticks\":\"\"}},\"ternary\":{\"bgcolor\":\"#E5ECF6\",\"aaxis\":{\"gridcolor\":\"white\",\"linecolor\":\"white\",\"ticks\":\"\"},\"baxis\":{\"gridcolor\":\"white\",\"linecolor\":\"white\",\"ticks\":\"\"},\"caxis\":{\"gridcolor\":\"white\",\"linecolor\":\"white\",\"ticks\":\"\"}},\"coloraxis\":{\"colorbar\":{\"outlinewidth\":0,\"ticks\":\"\"}},\"colorscale\":{\"sequential\":[[0.0,\"#0d0887\"],[0.1111111111111111,\"#46039f\"],[0.2222222222222222,\"#7201a8\"],[0.3333333333333333,\"#9c179e\"],[0.4444444444444444,\"#bd3786\"],[0.5555555555555556,\"#d8576b\"],[0.6666666666666666,\"#ed7953\"],[0.7777777777777778,\"#fb9f3a\"],[0.8888888888888888,\"#fdca26\"],[1.0,\"#f0f921\"]],\"sequentialminus\":[[0.0,\"#0d0887\"],[0.1111111111111111,\"#46039f\"],[0.2222222222222222,\"#7201a8\"],[0.3333333333333333,\"#9c179e\"],[0.4444444444444444,\"#bd3786\"],[0.5555555555555556,\"#d8576b\"],[0.6666666666666666,\"#ed7953\"],[0.7777777777777778,\"#fb9f3a\"],[0.8888888888888888,\"#fdca26\"],[1.0,\"#f0f921\"]],\"diverging\":[[0,\"#8e0152\"],[0.1,\"#c51b7d\"],[0.2,\"#de77ae\"],[0.3,\"#f1b6da\"],[0.4,\"#fde0ef\"],[0.5,\"#f7f7f7\"],[0.6,\"#e6f5d0\"],[0.7,\"#b8e186\"],[0.8,\"#7fbc41\"],[0.9,\"#4d9221\"],[1,\"#276419\"]]},\"xaxis\":{\"gridcolor\":\"white\",\"linecolor\":\"white\",\"ticks\":\"\",\"title\":{\"standoff\":15},\"zerolinecolor\":\"white\",\"automargin\":true,\"zerolinewidth\":2},\"yaxis\":{\"gridcolor\":\"white\",\"linecolor\":\"white\",\"ticks\":\"\",\"title\":{\"standoff\":15},\"zerolinecolor\":\"white\",\"automargin\":true,\"zerolinewidth\":2},\"scene\":{\"xaxis\":{\"backgroundcolor\":\"#E5ECF6\",\"gridcolor\":\"white\",\"linecolor\":\"white\",\"showbackground\":true,\"ticks\":\"\",\"zerolinecolor\":\"white\",\"gridwidth\":2},\"yaxis\":{\"backgroundcolor\":\"#E5ECF6\",\"gridcolor\":\"white\",\"linecolor\":\"white\",\"showbackground\":true,\"ticks\":\"\",\"zerolinecolor\":\"white\",\"gridwidth\":2},\"zaxis\":{\"backgroundcolor\":\"#E5ECF6\",\"gridcolor\":\"white\",\"linecolor\":\"white\",\"showbackground\":true,\"ticks\":\"\",\"zerolinecolor\":\"white\",\"gridwidth\":2}},\"shapedefaults\":{\"line\":{\"color\":\"#2a3f5f\"}},\"annotationdefaults\":{\"arrowcolor\":\"#2a3f5f\",\"arrowhead\":0,\"arrowwidth\":1},\"geo\":{\"bgcolor\":\"white\",\"landcolor\":\"#E5ECF6\",\"subunitcolor\":\"white\",\"showland\":true,\"showlakes\":true,\"lakecolor\":\"white\"},\"title\":{\"x\":0.05},\"mapbox\":{\"style\":\"light\"}}},\"margin\":{\"l\":0,\"r\":0,\"b\":0,\"t\":0},\"title\":{\"text\":\"Crystal Structure\"},\"scene\":{\"xaxis\":{\"title\":{\"text\":\"X\"}},\"yaxis\":{\"title\":{\"text\":\"Y\"}},\"zaxis\":{\"title\":{\"text\":\"Z\"}}}},                        {\"responsive\": true}                    ).then(function(){\n",
       "                            \n",
       "var gd = document.getElementById('c5bd3fe2-dc93-489c-b79a-7af4ecb079a7');\n",
       "var x = new MutationObserver(function (mutations, observer) {{\n",
       "        var display = window.getComputedStyle(gd).display;\n",
       "        if (!display || display === 'none') {{\n",
       "            console.log([gd, 'removed!']);\n",
       "            Plotly.purge(gd);\n",
       "            observer.disconnect();\n",
       "        }}\n",
       "}});\n",
       "\n",
       "// Listen for the removal of the full notebook cells\n",
       "var notebookContainer = gd.closest('#notebook-container');\n",
       "if (notebookContainer) {{\n",
       "    x.observe(notebookContainer, {childList: true});\n",
       "}}\n",
       "\n",
       "// Listen for the clearing of the current output cell\n",
       "var outputEl = gd.closest('.output');\n",
       "if (outputEl) {{\n",
       "    x.observe(outputEl, {childList: true});\n",
       "}}\n",
       "\n",
       "                        })                };                });            </script>        </div>"
      ]
     },
     "metadata": {},
     "output_type": "display_data"
    }
   ],
   "source": [
    "importlib.reload(get_molecules)\n",
    "importlib.reload(visualize_crystal)\n",
    "smiles=\"NCC(=O)NCCCCCC(=O)\"\n",
    "atomic_nums, coords = get_molecules.get_molecules(smiles)\n",
    "\n",
    "# for i in range(len(coords)):\n",
    "#     print(atomic_nums[i], coords[i])\n",
    "\n",
    "visualize_crystal.plot_crystal(atomic_nums, coords)"
   ]
  },
  {
   "cell_type": "code",
   "execution_count": null,
   "id": "8918c75d-8600-4f52-a48f-61a74a20b677",
   "metadata": {},
   "outputs": [],
   "source": []
  }
 ],
 "metadata": {
  "kernelspec": {
   "display_name": "Python 3 (ipykernel)",
   "language": "python",
   "name": "python3"
  },
  "language_info": {
   "codemirror_mode": {
    "name": "ipython",
    "version": 3
   },
   "file_extension": ".py",
   "mimetype": "text/x-python",
   "name": "python",
   "nbconvert_exporter": "python",
   "pygments_lexer": "ipython3",
   "version": "3.11.9"
  }
 },
 "nbformat": 4,
 "nbformat_minor": 5
}
